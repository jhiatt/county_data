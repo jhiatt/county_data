{
 "metadata": {
  "language_info": {
   "codemirror_mode": {
    "name": "ipython",
    "version": 3
   },
   "file_extension": ".py",
   "mimetype": "text/x-python",
   "name": "python",
   "nbconvert_exporter": "python",
   "pygments_lexer": "ipython3",
   "version": "3.8.3-final"
  },
  "orig_nbformat": 2,
  "kernelspec": {
   "name": "python3",
   "display_name": "Python 3",
   "language": "python"
  }
 },
 "nbformat": 4,
 "nbformat_minor": 2,
 "cells": [
  {
   "cell_type": "code",
   "execution_count": 1,
   "metadata": {},
   "outputs": [],
   "source": [
    "import pandas as pd"
   ]
  },
  {
   "cell_type": "code",
   "execution_count": 5,
   "metadata": {},
   "outputs": [
    {
     "output_type": "execute_result",
     "data": {
      "text/plain": [
       "      Unnamed: 0  year   fips        state state_po      county     office  \\\n",
       "0          12623  2016  10001     Delaware       DE        Kent  President   \n",
       "1          12624  2016  10003     Delaware       DE  New Castle  President   \n",
       "2          12625  2016  10005     Delaware       DE      Sussex  President   \n",
       "3          12626  2016   1001      Alabama       AL     Autauga  President   \n",
       "4          12627  2016   1003      Alabama       AL     Baldwin  President   \n",
       "...          ...   ...    ...          ...      ...         ...        ...   \n",
       "3150       15773  2016   9007  Connecticut       CT   Middlesex  President   \n",
       "3151       15774  2016   9009  Connecticut       CT   New Haven  President   \n",
       "3152       15775  2016   9011  Connecticut       CT  New London  President   \n",
       "3153       15776  2016   9013  Connecticut       CT     Tolland  President   \n",
       "3154       15777  2016   9015  Connecticut       CT     Windham  President   \n",
       "\n",
       "            candidate     party  candidatevotes  ...  democrat_candidate  \\\n",
       "0     Hillary Clinton  democrat         33351.0  ...     Hillary Clinton   \n",
       "1     Hillary Clinton  democrat        162919.0  ...     Hillary Clinton   \n",
       "2     Hillary Clinton  democrat         39333.0  ...     Hillary Clinton   \n",
       "3     Hillary Clinton  democrat          5936.0  ...     Hillary Clinton   \n",
       "4     Hillary Clinton  democrat         18458.0  ...     Hillary Clinton   \n",
       "...               ...       ...             ...  ...                 ...   \n",
       "3150  Hillary Clinton  democrat         45357.0  ...     Hillary Clinton   \n",
       "3151  Hillary Clinton  democrat        205609.0  ...     Hillary Clinton   \n",
       "3152  Hillary Clinton  democrat         62278.0  ...     Hillary Clinton   \n",
       "3153  Hillary Clinton  democrat         38506.0  ...     Hillary Clinton   \n",
       "3154  Hillary Clinton  democrat         21792.0  ...     Hillary Clinton   \n",
       "\n",
       "      democrat_votes republican_candidate  republican_votes green_candidate  \\\n",
       "0            33351.0         Donald Trump           36991.0             NaN   \n",
       "1           162919.0         Donald Trump           85525.0             NaN   \n",
       "2            39333.0         Donald Trump           62611.0             NaN   \n",
       "3             5936.0         Donald Trump           18172.0             NaN   \n",
       "4            18458.0         Donald Trump           72883.0             NaN   \n",
       "...              ...                  ...               ...             ...   \n",
       "3150         45357.0         Donald Trump           38867.0             NaN   \n",
       "3151        205609.0         Donald Trump          159048.0             NaN   \n",
       "3152         62278.0         Donald Trump           54058.0             NaN   \n",
       "3153         38506.0         Donald Trump           34194.0             NaN   \n",
       "3154         21792.0         Donald Trump           25747.0             NaN   \n",
       "\n",
       "      green_votes  other_candidate  other_votes dem_share  rep_share  \n",
       "0             NaN            Other       4256.0  0.447076   0.495871  \n",
       "1             NaN            Other      13947.0  0.620902   0.325945  \n",
       "2             NaN            Other       4064.0  0.371038   0.590625  \n",
       "3             NaN            Other        865.0  0.237697   0.727666  \n",
       "4             NaN            Other       3874.0  0.193856   0.765457  \n",
       "...           ...              ...          ...       ...        ...  \n",
       "3150          NaN            Other       4400.0  0.511791   0.438561  \n",
       "3151          NaN            Other      14349.0  0.542495   0.419645  \n",
       "3152          NaN            Other       7192.0  0.504161   0.437617  \n",
       "3153          NaN            Other       4724.0  0.497339   0.441646  \n",
       "3154          NaN            Other       3284.0  0.428782   0.506601  \n",
       "\n",
       "[3155 rows x 22 columns]"
      ],
      "text/html": "<div>\n<style scoped>\n    .dataframe tbody tr th:only-of-type {\n        vertical-align: middle;\n    }\n\n    .dataframe tbody tr th {\n        vertical-align: top;\n    }\n\n    .dataframe thead th {\n        text-align: right;\n    }\n</style>\n<table border=\"1\" class=\"dataframe\">\n  <thead>\n    <tr style=\"text-align: right;\">\n      <th></th>\n      <th>Unnamed: 0</th>\n      <th>year</th>\n      <th>fips</th>\n      <th>state</th>\n      <th>state_po</th>\n      <th>county</th>\n      <th>office</th>\n      <th>candidate</th>\n      <th>party</th>\n      <th>candidatevotes</th>\n      <th>...</th>\n      <th>democrat_candidate</th>\n      <th>democrat_votes</th>\n      <th>republican_candidate</th>\n      <th>republican_votes</th>\n      <th>green_candidate</th>\n      <th>green_votes</th>\n      <th>other_candidate</th>\n      <th>other_votes</th>\n      <th>dem_share</th>\n      <th>rep_share</th>\n    </tr>\n  </thead>\n  <tbody>\n    <tr>\n      <th>0</th>\n      <td>12623</td>\n      <td>2016</td>\n      <td>10001</td>\n      <td>Delaware</td>\n      <td>DE</td>\n      <td>Kent</td>\n      <td>President</td>\n      <td>Hillary Clinton</td>\n      <td>democrat</td>\n      <td>33351.0</td>\n      <td>...</td>\n      <td>Hillary Clinton</td>\n      <td>33351.0</td>\n      <td>Donald Trump</td>\n      <td>36991.0</td>\n      <td>NaN</td>\n      <td>NaN</td>\n      <td>Other</td>\n      <td>4256.0</td>\n      <td>0.447076</td>\n      <td>0.495871</td>\n    </tr>\n    <tr>\n      <th>1</th>\n      <td>12624</td>\n      <td>2016</td>\n      <td>10003</td>\n      <td>Delaware</td>\n      <td>DE</td>\n      <td>New Castle</td>\n      <td>President</td>\n      <td>Hillary Clinton</td>\n      <td>democrat</td>\n      <td>162919.0</td>\n      <td>...</td>\n      <td>Hillary Clinton</td>\n      <td>162919.0</td>\n      <td>Donald Trump</td>\n      <td>85525.0</td>\n      <td>NaN</td>\n      <td>NaN</td>\n      <td>Other</td>\n      <td>13947.0</td>\n      <td>0.620902</td>\n      <td>0.325945</td>\n    </tr>\n    <tr>\n      <th>2</th>\n      <td>12625</td>\n      <td>2016</td>\n      <td>10005</td>\n      <td>Delaware</td>\n      <td>DE</td>\n      <td>Sussex</td>\n      <td>President</td>\n      <td>Hillary Clinton</td>\n      <td>democrat</td>\n      <td>39333.0</td>\n      <td>...</td>\n      <td>Hillary Clinton</td>\n      <td>39333.0</td>\n      <td>Donald Trump</td>\n      <td>62611.0</td>\n      <td>NaN</td>\n      <td>NaN</td>\n      <td>Other</td>\n      <td>4064.0</td>\n      <td>0.371038</td>\n      <td>0.590625</td>\n    </tr>\n    <tr>\n      <th>3</th>\n      <td>12626</td>\n      <td>2016</td>\n      <td>1001</td>\n      <td>Alabama</td>\n      <td>AL</td>\n      <td>Autauga</td>\n      <td>President</td>\n      <td>Hillary Clinton</td>\n      <td>democrat</td>\n      <td>5936.0</td>\n      <td>...</td>\n      <td>Hillary Clinton</td>\n      <td>5936.0</td>\n      <td>Donald Trump</td>\n      <td>18172.0</td>\n      <td>NaN</td>\n      <td>NaN</td>\n      <td>Other</td>\n      <td>865.0</td>\n      <td>0.237697</td>\n      <td>0.727666</td>\n    </tr>\n    <tr>\n      <th>4</th>\n      <td>12627</td>\n      <td>2016</td>\n      <td>1003</td>\n      <td>Alabama</td>\n      <td>AL</td>\n      <td>Baldwin</td>\n      <td>President</td>\n      <td>Hillary Clinton</td>\n      <td>democrat</td>\n      <td>18458.0</td>\n      <td>...</td>\n      <td>Hillary Clinton</td>\n      <td>18458.0</td>\n      <td>Donald Trump</td>\n      <td>72883.0</td>\n      <td>NaN</td>\n      <td>NaN</td>\n      <td>Other</td>\n      <td>3874.0</td>\n      <td>0.193856</td>\n      <td>0.765457</td>\n    </tr>\n    <tr>\n      <th>...</th>\n      <td>...</td>\n      <td>...</td>\n      <td>...</td>\n      <td>...</td>\n      <td>...</td>\n      <td>...</td>\n      <td>...</td>\n      <td>...</td>\n      <td>...</td>\n      <td>...</td>\n      <td>...</td>\n      <td>...</td>\n      <td>...</td>\n      <td>...</td>\n      <td>...</td>\n      <td>...</td>\n      <td>...</td>\n      <td>...</td>\n      <td>...</td>\n      <td>...</td>\n      <td>...</td>\n    </tr>\n    <tr>\n      <th>3150</th>\n      <td>15773</td>\n      <td>2016</td>\n      <td>9007</td>\n      <td>Connecticut</td>\n      <td>CT</td>\n      <td>Middlesex</td>\n      <td>President</td>\n      <td>Hillary Clinton</td>\n      <td>democrat</td>\n      <td>45357.0</td>\n      <td>...</td>\n      <td>Hillary Clinton</td>\n      <td>45357.0</td>\n      <td>Donald Trump</td>\n      <td>38867.0</td>\n      <td>NaN</td>\n      <td>NaN</td>\n      <td>Other</td>\n      <td>4400.0</td>\n      <td>0.511791</td>\n      <td>0.438561</td>\n    </tr>\n    <tr>\n      <th>3151</th>\n      <td>15774</td>\n      <td>2016</td>\n      <td>9009</td>\n      <td>Connecticut</td>\n      <td>CT</td>\n      <td>New Haven</td>\n      <td>President</td>\n      <td>Hillary Clinton</td>\n      <td>democrat</td>\n      <td>205609.0</td>\n      <td>...</td>\n      <td>Hillary Clinton</td>\n      <td>205609.0</td>\n      <td>Donald Trump</td>\n      <td>159048.0</td>\n      <td>NaN</td>\n      <td>NaN</td>\n      <td>Other</td>\n      <td>14349.0</td>\n      <td>0.542495</td>\n      <td>0.419645</td>\n    </tr>\n    <tr>\n      <th>3152</th>\n      <td>15775</td>\n      <td>2016</td>\n      <td>9011</td>\n      <td>Connecticut</td>\n      <td>CT</td>\n      <td>New London</td>\n      <td>President</td>\n      <td>Hillary Clinton</td>\n      <td>democrat</td>\n      <td>62278.0</td>\n      <td>...</td>\n      <td>Hillary Clinton</td>\n      <td>62278.0</td>\n      <td>Donald Trump</td>\n      <td>54058.0</td>\n      <td>NaN</td>\n      <td>NaN</td>\n      <td>Other</td>\n      <td>7192.0</td>\n      <td>0.504161</td>\n      <td>0.437617</td>\n    </tr>\n    <tr>\n      <th>3153</th>\n      <td>15776</td>\n      <td>2016</td>\n      <td>9013</td>\n      <td>Connecticut</td>\n      <td>CT</td>\n      <td>Tolland</td>\n      <td>President</td>\n      <td>Hillary Clinton</td>\n      <td>democrat</td>\n      <td>38506.0</td>\n      <td>...</td>\n      <td>Hillary Clinton</td>\n      <td>38506.0</td>\n      <td>Donald Trump</td>\n      <td>34194.0</td>\n      <td>NaN</td>\n      <td>NaN</td>\n      <td>Other</td>\n      <td>4724.0</td>\n      <td>0.497339</td>\n      <td>0.441646</td>\n    </tr>\n    <tr>\n      <th>3154</th>\n      <td>15777</td>\n      <td>2016</td>\n      <td>9015</td>\n      <td>Connecticut</td>\n      <td>CT</td>\n      <td>Windham</td>\n      <td>President</td>\n      <td>Hillary Clinton</td>\n      <td>democrat</td>\n      <td>21792.0</td>\n      <td>...</td>\n      <td>Hillary Clinton</td>\n      <td>21792.0</td>\n      <td>Donald Trump</td>\n      <td>25747.0</td>\n      <td>NaN</td>\n      <td>NaN</td>\n      <td>Other</td>\n      <td>3284.0</td>\n      <td>0.428782</td>\n      <td>0.506601</td>\n    </tr>\n  </tbody>\n</table>\n<p>3155 rows × 22 columns</p>\n</div>"
     },
     "metadata": {},
     "execution_count": 5
    }
   ],
   "source": [
    "# pull in election data\n",
    "df_pres = pd.read_csv('pres-elect.csv')\n",
    "df_pres"
   ]
  },
  {
   "cell_type": "code",
   "execution_count": 7,
   "metadata": {},
   "outputs": [
    {
     "output_type": "execute_result",
     "data": {
      "text/plain": [
       "      Unnamed: 0        LAUS Code  FIPS_code_state  FIPS_code_county  \\\n",
       "0          38629  CN0100100000000                1                 1   \n",
       "1          38630  CN0100300000000                1                 3   \n",
       "2          38631  CN0100500000000                1                 5   \n",
       "3          38632  CN0100700000000                1                 7   \n",
       "4          38633  CN0100900000000                1                 9   \n",
       "...          ...              ...              ...               ...   \n",
       "3214       41843  CN7214500000000               72               145   \n",
       "3215       41844  CN7214700000000               72               147   \n",
       "3216       41845  CN7214900000000               72               149   \n",
       "3217       41846  CN7215100000000               72               151   \n",
       "3218       41847  CN7215300000000               72               153   \n",
       "\n",
       "     County Name/State Abbreviation  Period  Labor_force  Employed  \\\n",
       "0                Autauga County, AL  Sep-20      25403.0   24049.0   \n",
       "1                Baldwin County, AL  Sep-20      97719.0   92203.0   \n",
       "2                Barbour County, AL  Sep-20       9595.0    8750.0   \n",
       "3                   Bibb County, AL  Sep-20       8655.0    8073.0   \n",
       "4                 Blount County, AL  Sep-20      24703.0   23688.0   \n",
       "...                             ...     ...          ...       ...   \n",
       "3214        Vega Baja Municipio, PR  Sep-20      12794.0   11165.0   \n",
       "3215          Vieques Municipio, PR  Sep-20       2503.0    2211.0   \n",
       "3216         Villalba Municipio, PR  Sep-20       6721.0    6064.0   \n",
       "3217          Yabucoa Municipio, PR  Sep-20       8043.0    7198.0   \n",
       "3218            Yauco Municipio, PR  Sep-20       9251.0    8199.0   \n",
       "\n",
       "      Unemployed  Unemployment_rate%               County State  Preliminary  \\\n",
       "0         1354.0                 5.3       Autauga County    AL        False   \n",
       "1         5516.0                 5.6       Baldwin County    AL        False   \n",
       "2          845.0                 8.8       Barbour County    AL        False   \n",
       "3          582.0                 6.7          Bibb County    AL        False   \n",
       "4         1015.0                 4.1        Blount County    AL        False   \n",
       "...          ...                 ...                  ...   ...          ...   \n",
       "3214      1629.0                12.7  Vega Baja Municipio    PR        False   \n",
       "3215       292.0                11.7    Vieques Municipio    PR        False   \n",
       "3216       657.0                 9.8   Villalba Municipio    PR        False   \n",
       "3217       845.0                10.5    Yabucoa Municipio    PR        False   \n",
       "3218      1052.0                11.4      Yauco Municipio    PR        False   \n",
       "\n",
       "      Labor_force_NA  Employed_NA  Unemployed_NA  Unemployment_rate%_NA   fips  \n",
       "0              False        False          False                  False   1001  \n",
       "1              False        False          False                  False   1003  \n",
       "2              False        False          False                  False   1005  \n",
       "3              False        False          False                  False   1007  \n",
       "4              False        False          False                  False   1009  \n",
       "...              ...          ...            ...                    ...    ...  \n",
       "3214           False        False          False                  False  72145  \n",
       "3215           False        False          False                  False  72147  \n",
       "3216           False        False          False                  False  72149  \n",
       "3217           False        False          False                  False  72151  \n",
       "3218           False        False          False                  False  72153  \n",
       "\n",
       "[3219 rows x 18 columns]"
      ],
      "text/html": "<div>\n<style scoped>\n    .dataframe tbody tr th:only-of-type {\n        vertical-align: middle;\n    }\n\n    .dataframe tbody tr th {\n        vertical-align: top;\n    }\n\n    .dataframe thead th {\n        text-align: right;\n    }\n</style>\n<table border=\"1\" class=\"dataframe\">\n  <thead>\n    <tr style=\"text-align: right;\">\n      <th></th>\n      <th>Unnamed: 0</th>\n      <th>LAUS Code</th>\n      <th>FIPS_code_state</th>\n      <th>FIPS_code_county</th>\n      <th>County Name/State Abbreviation</th>\n      <th>Period</th>\n      <th>Labor_force</th>\n      <th>Employed</th>\n      <th>Unemployed</th>\n      <th>Unemployment_rate%</th>\n      <th>County</th>\n      <th>State</th>\n      <th>Preliminary</th>\n      <th>Labor_force_NA</th>\n      <th>Employed_NA</th>\n      <th>Unemployed_NA</th>\n      <th>Unemployment_rate%_NA</th>\n      <th>fips</th>\n    </tr>\n  </thead>\n  <tbody>\n    <tr>\n      <th>0</th>\n      <td>38629</td>\n      <td>CN0100100000000</td>\n      <td>1</td>\n      <td>1</td>\n      <td>Autauga County, AL</td>\n      <td>Sep-20</td>\n      <td>25403.0</td>\n      <td>24049.0</td>\n      <td>1354.0</td>\n      <td>5.3</td>\n      <td>Autauga County</td>\n      <td>AL</td>\n      <td>False</td>\n      <td>False</td>\n      <td>False</td>\n      <td>False</td>\n      <td>False</td>\n      <td>1001</td>\n    </tr>\n    <tr>\n      <th>1</th>\n      <td>38630</td>\n      <td>CN0100300000000</td>\n      <td>1</td>\n      <td>3</td>\n      <td>Baldwin County, AL</td>\n      <td>Sep-20</td>\n      <td>97719.0</td>\n      <td>92203.0</td>\n      <td>5516.0</td>\n      <td>5.6</td>\n      <td>Baldwin County</td>\n      <td>AL</td>\n      <td>False</td>\n      <td>False</td>\n      <td>False</td>\n      <td>False</td>\n      <td>False</td>\n      <td>1003</td>\n    </tr>\n    <tr>\n      <th>2</th>\n      <td>38631</td>\n      <td>CN0100500000000</td>\n      <td>1</td>\n      <td>5</td>\n      <td>Barbour County, AL</td>\n      <td>Sep-20</td>\n      <td>9595.0</td>\n      <td>8750.0</td>\n      <td>845.0</td>\n      <td>8.8</td>\n      <td>Barbour County</td>\n      <td>AL</td>\n      <td>False</td>\n      <td>False</td>\n      <td>False</td>\n      <td>False</td>\n      <td>False</td>\n      <td>1005</td>\n    </tr>\n    <tr>\n      <th>3</th>\n      <td>38632</td>\n      <td>CN0100700000000</td>\n      <td>1</td>\n      <td>7</td>\n      <td>Bibb County, AL</td>\n      <td>Sep-20</td>\n      <td>8655.0</td>\n      <td>8073.0</td>\n      <td>582.0</td>\n      <td>6.7</td>\n      <td>Bibb County</td>\n      <td>AL</td>\n      <td>False</td>\n      <td>False</td>\n      <td>False</td>\n      <td>False</td>\n      <td>False</td>\n      <td>1007</td>\n    </tr>\n    <tr>\n      <th>4</th>\n      <td>38633</td>\n      <td>CN0100900000000</td>\n      <td>1</td>\n      <td>9</td>\n      <td>Blount County, AL</td>\n      <td>Sep-20</td>\n      <td>24703.0</td>\n      <td>23688.0</td>\n      <td>1015.0</td>\n      <td>4.1</td>\n      <td>Blount County</td>\n      <td>AL</td>\n      <td>False</td>\n      <td>False</td>\n      <td>False</td>\n      <td>False</td>\n      <td>False</td>\n      <td>1009</td>\n    </tr>\n    <tr>\n      <th>...</th>\n      <td>...</td>\n      <td>...</td>\n      <td>...</td>\n      <td>...</td>\n      <td>...</td>\n      <td>...</td>\n      <td>...</td>\n      <td>...</td>\n      <td>...</td>\n      <td>...</td>\n      <td>...</td>\n      <td>...</td>\n      <td>...</td>\n      <td>...</td>\n      <td>...</td>\n      <td>...</td>\n      <td>...</td>\n      <td>...</td>\n    </tr>\n    <tr>\n      <th>3214</th>\n      <td>41843</td>\n      <td>CN7214500000000</td>\n      <td>72</td>\n      <td>145</td>\n      <td>Vega Baja Municipio, PR</td>\n      <td>Sep-20</td>\n      <td>12794.0</td>\n      <td>11165.0</td>\n      <td>1629.0</td>\n      <td>12.7</td>\n      <td>Vega Baja Municipio</td>\n      <td>PR</td>\n      <td>False</td>\n      <td>False</td>\n      <td>False</td>\n      <td>False</td>\n      <td>False</td>\n      <td>72145</td>\n    </tr>\n    <tr>\n      <th>3215</th>\n      <td>41844</td>\n      <td>CN7214700000000</td>\n      <td>72</td>\n      <td>147</td>\n      <td>Vieques Municipio, PR</td>\n      <td>Sep-20</td>\n      <td>2503.0</td>\n      <td>2211.0</td>\n      <td>292.0</td>\n      <td>11.7</td>\n      <td>Vieques Municipio</td>\n      <td>PR</td>\n      <td>False</td>\n      <td>False</td>\n      <td>False</td>\n      <td>False</td>\n      <td>False</td>\n      <td>72147</td>\n    </tr>\n    <tr>\n      <th>3216</th>\n      <td>41845</td>\n      <td>CN7214900000000</td>\n      <td>72</td>\n      <td>149</td>\n      <td>Villalba Municipio, PR</td>\n      <td>Sep-20</td>\n      <td>6721.0</td>\n      <td>6064.0</td>\n      <td>657.0</td>\n      <td>9.8</td>\n      <td>Villalba Municipio</td>\n      <td>PR</td>\n      <td>False</td>\n      <td>False</td>\n      <td>False</td>\n      <td>False</td>\n      <td>False</td>\n      <td>72149</td>\n    </tr>\n    <tr>\n      <th>3217</th>\n      <td>41846</td>\n      <td>CN7215100000000</td>\n      <td>72</td>\n      <td>151</td>\n      <td>Yabucoa Municipio, PR</td>\n      <td>Sep-20</td>\n      <td>8043.0</td>\n      <td>7198.0</td>\n      <td>845.0</td>\n      <td>10.5</td>\n      <td>Yabucoa Municipio</td>\n      <td>PR</td>\n      <td>False</td>\n      <td>False</td>\n      <td>False</td>\n      <td>False</td>\n      <td>False</td>\n      <td>72151</td>\n    </tr>\n    <tr>\n      <th>3218</th>\n      <td>41847</td>\n      <td>CN7215300000000</td>\n      <td>72</td>\n      <td>153</td>\n      <td>Yauco Municipio, PR</td>\n      <td>Sep-20</td>\n      <td>9251.0</td>\n      <td>8199.0</td>\n      <td>1052.0</td>\n      <td>11.4</td>\n      <td>Yauco Municipio</td>\n      <td>PR</td>\n      <td>False</td>\n      <td>False</td>\n      <td>False</td>\n      <td>False</td>\n      <td>False</td>\n      <td>72153</td>\n    </tr>\n  </tbody>\n</table>\n<p>3219 rows × 18 columns</p>\n</div>"
     },
     "metadata": {},
     "execution_count": 7
    }
   ],
   "source": [
    "# pull in unemployement/labor data\n",
    "df_unemp = pd.read_csv('unemployment.csv')\n",
    "df_unemp"
   ]
  },
  {
   "cell_type": "code",
   "execution_count": 8,
   "metadata": {},
   "outputs": [],
   "source": [
    "# should I join this data?  The time periods don't really line up."
   ]
  },
  {
   "cell_type": "code",
   "execution_count": null,
   "metadata": {},
   "outputs": [],
   "source": []
  }
 ]
}