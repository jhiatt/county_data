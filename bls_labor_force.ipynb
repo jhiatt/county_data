{
 "cells": [
  {
   "cell_type": "code",
   "execution_count": 12,
   "metadata": {},
   "outputs": [],
   "source": [
    "import pandas as pd\n",
    "import numpy as np"
   ]
  },
  {
   "cell_type": "code",
   "execution_count": 13,
   "metadata": {},
   "outputs": [
    {
     "output_type": "execute_result",
     "data": {
      "text/plain": [
       "                                         LAUS Code  Code  Code.1  \\\n",
       "0                                              NaN   NaN     NaN   \n",
       "1                                  CN0100100000000   1.0     1.0   \n",
       "2                                  CN0100300000000   1.0     3.0   \n",
       "3                                  CN0100500000000   1.0     5.0   \n",
       "4                                  CN0100700000000   1.0     7.0   \n",
       "...                                            ...   ...     ...   \n",
       "45065                              CN7215100000000  72.0   151.0   \n",
       "45066                              CN7215300000000  72.0   153.0   \n",
       "45067                                          NaN   NaN     NaN   \n",
       "45068                             p = preliminary.   NaN     NaN   \n",
       "45069  Dash indicates that data are not available.   NaN     NaN   \n",
       "\n",
       "      County Name/State Abbreviation    Period  Force Employed Unemployed  \\\n",
       "0                                NaN       NaN    NaN      NaN        NaN   \n",
       "1                 Autauga County, AL    Sep-19  26010    25391        619   \n",
       "2                 Baldwin County, AL    Sep-19  96754    94510       2244   \n",
       "3                 Barbour County, AL    Sep-19   8656     8376        280   \n",
       "4                    Bibb County, AL    Sep-19   8655     8430        225   \n",
       "...                              ...       ...    ...      ...        ...   \n",
       "45065          Yabucoa Municipio, PR  Oct-20 p   7961     7168        793   \n",
       "45066            Yauco Municipio, PR  Oct-20 p   9250     8321        929   \n",
       "45067                            NaN       NaN    NaN      NaN        NaN   \n",
       "45068                            NaN       NaN    NaN      NaN        NaN   \n",
       "45069                            NaN       NaN    NaN      NaN        NaN   \n",
       "\n",
       "                      (%)  \n",
       "0                     NaN  \n",
       "1                     2.4  \n",
       "2                     2.3  \n",
       "3                     3.2  \n",
       "4                     2.6  \n",
       "...                   ...  \n",
       "45065                  10  \n",
       "45066                  10  \n",
       "45067                 NaN  \n",
       "45068  SOURCE:  BLS, LAUS  \n",
       "45069    December 3, 2020  \n",
       "\n",
       "[45070 rows x 9 columns]"
      ],
      "text/html": "<div>\n<style scoped>\n    .dataframe tbody tr th:only-of-type {\n        vertical-align: middle;\n    }\n\n    .dataframe tbody tr th {\n        vertical-align: top;\n    }\n\n    .dataframe thead th {\n        text-align: right;\n    }\n</style>\n<table border=\"1\" class=\"dataframe\">\n  <thead>\n    <tr style=\"text-align: right;\">\n      <th></th>\n      <th>LAUS Code</th>\n      <th>Code</th>\n      <th>Code.1</th>\n      <th>County Name/State Abbreviation</th>\n      <th>Period</th>\n      <th>Force</th>\n      <th>Employed</th>\n      <th>Unemployed</th>\n      <th>(%)</th>\n    </tr>\n  </thead>\n  <tbody>\n    <tr>\n      <th>0</th>\n      <td>NaN</td>\n      <td>NaN</td>\n      <td>NaN</td>\n      <td>NaN</td>\n      <td>NaN</td>\n      <td>NaN</td>\n      <td>NaN</td>\n      <td>NaN</td>\n      <td>NaN</td>\n    </tr>\n    <tr>\n      <th>1</th>\n      <td>CN0100100000000</td>\n      <td>1.0</td>\n      <td>1.0</td>\n      <td>Autauga County, AL</td>\n      <td>Sep-19</td>\n      <td>26010</td>\n      <td>25391</td>\n      <td>619</td>\n      <td>2.4</td>\n    </tr>\n    <tr>\n      <th>2</th>\n      <td>CN0100300000000</td>\n      <td>1.0</td>\n      <td>3.0</td>\n      <td>Baldwin County, AL</td>\n      <td>Sep-19</td>\n      <td>96754</td>\n      <td>94510</td>\n      <td>2244</td>\n      <td>2.3</td>\n    </tr>\n    <tr>\n      <th>3</th>\n      <td>CN0100500000000</td>\n      <td>1.0</td>\n      <td>5.0</td>\n      <td>Barbour County, AL</td>\n      <td>Sep-19</td>\n      <td>8656</td>\n      <td>8376</td>\n      <td>280</td>\n      <td>3.2</td>\n    </tr>\n    <tr>\n      <th>4</th>\n      <td>CN0100700000000</td>\n      <td>1.0</td>\n      <td>7.0</td>\n      <td>Bibb County, AL</td>\n      <td>Sep-19</td>\n      <td>8655</td>\n      <td>8430</td>\n      <td>225</td>\n      <td>2.6</td>\n    </tr>\n    <tr>\n      <th>...</th>\n      <td>...</td>\n      <td>...</td>\n      <td>...</td>\n      <td>...</td>\n      <td>...</td>\n      <td>...</td>\n      <td>...</td>\n      <td>...</td>\n      <td>...</td>\n    </tr>\n    <tr>\n      <th>45065</th>\n      <td>CN7215100000000</td>\n      <td>72.0</td>\n      <td>151.0</td>\n      <td>Yabucoa Municipio, PR</td>\n      <td>Oct-20 p</td>\n      <td>7961</td>\n      <td>7168</td>\n      <td>793</td>\n      <td>10</td>\n    </tr>\n    <tr>\n      <th>45066</th>\n      <td>CN7215300000000</td>\n      <td>72.0</td>\n      <td>153.0</td>\n      <td>Yauco Municipio, PR</td>\n      <td>Oct-20 p</td>\n      <td>9250</td>\n      <td>8321</td>\n      <td>929</td>\n      <td>10</td>\n    </tr>\n    <tr>\n      <th>45067</th>\n      <td>NaN</td>\n      <td>NaN</td>\n      <td>NaN</td>\n      <td>NaN</td>\n      <td>NaN</td>\n      <td>NaN</td>\n      <td>NaN</td>\n      <td>NaN</td>\n      <td>NaN</td>\n    </tr>\n    <tr>\n      <th>45068</th>\n      <td>p = preliminary.</td>\n      <td>NaN</td>\n      <td>NaN</td>\n      <td>NaN</td>\n      <td>NaN</td>\n      <td>NaN</td>\n      <td>NaN</td>\n      <td>NaN</td>\n      <td>SOURCE:  BLS, LAUS</td>\n    </tr>\n    <tr>\n      <th>45069</th>\n      <td>Dash indicates that data are not available.</td>\n      <td>NaN</td>\n      <td>NaN</td>\n      <td>NaN</td>\n      <td>NaN</td>\n      <td>NaN</td>\n      <td>NaN</td>\n      <td>NaN</td>\n      <td>December 3, 2020</td>\n    </tr>\n  </tbody>\n</table>\n<p>45070 rows × 9 columns</p>\n</div>"
     },
     "metadata": {},
     "execution_count": 13
    }
   ],
   "source": [
    "df = pd.read_excel('data_sources/laucntycur14.xlsx', header=4)\n",
    "df"
   ]
  },
  {
   "cell_type": "code",
   "execution_count": 14,
   "metadata": {},
   "outputs": [
    {
     "output_type": "execute_result",
     "data": {
      "text/plain": [
       "                                         LAUS Code  FIPS_code_state  \\\n",
       "0                                              NaN              NaN   \n",
       "1                                  CN0100100000000              1.0   \n",
       "2                                  CN0100300000000              1.0   \n",
       "3                                  CN0100500000000              1.0   \n",
       "4                                  CN0100700000000              1.0   \n",
       "...                                            ...              ...   \n",
       "45065                              CN7215100000000             72.0   \n",
       "45066                              CN7215300000000             72.0   \n",
       "45067                                          NaN              NaN   \n",
       "45068                             p = preliminary.              NaN   \n",
       "45069  Dash indicates that data are not available.              NaN   \n",
       "\n",
       "       FIPS_code_county County Name/State Abbreviation    Period Labor_force  \\\n",
       "0                   NaN                            NaN       NaN         NaN   \n",
       "1                   1.0             Autauga County, AL    Sep-19       26010   \n",
       "2                   3.0             Baldwin County, AL    Sep-19       96754   \n",
       "3                   5.0             Barbour County, AL    Sep-19        8656   \n",
       "4                   7.0                Bibb County, AL    Sep-19        8655   \n",
       "...                 ...                            ...       ...         ...   \n",
       "45065             151.0          Yabucoa Municipio, PR  Oct-20 p        7961   \n",
       "45066             153.0            Yauco Municipio, PR  Oct-20 p        9250   \n",
       "45067               NaN                            NaN       NaN         NaN   \n",
       "45068               NaN                            NaN       NaN         NaN   \n",
       "45069               NaN                            NaN       NaN         NaN   \n",
       "\n",
       "      Employed Unemployed  Unemployment_rate%  \n",
       "0          NaN        NaN                 NaN  \n",
       "1        25391        619                 2.4  \n",
       "2        94510       2244                 2.3  \n",
       "3         8376        280                 3.2  \n",
       "4         8430        225                 2.6  \n",
       "...        ...        ...                 ...  \n",
       "45065     7168        793                  10  \n",
       "45066     8321        929                  10  \n",
       "45067      NaN        NaN                 NaN  \n",
       "45068      NaN        NaN  SOURCE:  BLS, LAUS  \n",
       "45069      NaN        NaN    December 3, 2020  \n",
       "\n",
       "[45070 rows x 9 columns]"
      ],
      "text/html": "<div>\n<style scoped>\n    .dataframe tbody tr th:only-of-type {\n        vertical-align: middle;\n    }\n\n    .dataframe tbody tr th {\n        vertical-align: top;\n    }\n\n    .dataframe thead th {\n        text-align: right;\n    }\n</style>\n<table border=\"1\" class=\"dataframe\">\n  <thead>\n    <tr style=\"text-align: right;\">\n      <th></th>\n      <th>LAUS Code</th>\n      <th>FIPS_code_state</th>\n      <th>FIPS_code_county</th>\n      <th>County Name/State Abbreviation</th>\n      <th>Period</th>\n      <th>Labor_force</th>\n      <th>Employed</th>\n      <th>Unemployed</th>\n      <th>Unemployment_rate%</th>\n    </tr>\n  </thead>\n  <tbody>\n    <tr>\n      <th>0</th>\n      <td>NaN</td>\n      <td>NaN</td>\n      <td>NaN</td>\n      <td>NaN</td>\n      <td>NaN</td>\n      <td>NaN</td>\n      <td>NaN</td>\n      <td>NaN</td>\n      <td>NaN</td>\n    </tr>\n    <tr>\n      <th>1</th>\n      <td>CN0100100000000</td>\n      <td>1.0</td>\n      <td>1.0</td>\n      <td>Autauga County, AL</td>\n      <td>Sep-19</td>\n      <td>26010</td>\n      <td>25391</td>\n      <td>619</td>\n      <td>2.4</td>\n    </tr>\n    <tr>\n      <th>2</th>\n      <td>CN0100300000000</td>\n      <td>1.0</td>\n      <td>3.0</td>\n      <td>Baldwin County, AL</td>\n      <td>Sep-19</td>\n      <td>96754</td>\n      <td>94510</td>\n      <td>2244</td>\n      <td>2.3</td>\n    </tr>\n    <tr>\n      <th>3</th>\n      <td>CN0100500000000</td>\n      <td>1.0</td>\n      <td>5.0</td>\n      <td>Barbour County, AL</td>\n      <td>Sep-19</td>\n      <td>8656</td>\n      <td>8376</td>\n      <td>280</td>\n      <td>3.2</td>\n    </tr>\n    <tr>\n      <th>4</th>\n      <td>CN0100700000000</td>\n      <td>1.0</td>\n      <td>7.0</td>\n      <td>Bibb County, AL</td>\n      <td>Sep-19</td>\n      <td>8655</td>\n      <td>8430</td>\n      <td>225</td>\n      <td>2.6</td>\n    </tr>\n    <tr>\n      <th>...</th>\n      <td>...</td>\n      <td>...</td>\n      <td>...</td>\n      <td>...</td>\n      <td>...</td>\n      <td>...</td>\n      <td>...</td>\n      <td>...</td>\n      <td>...</td>\n    </tr>\n    <tr>\n      <th>45065</th>\n      <td>CN7215100000000</td>\n      <td>72.0</td>\n      <td>151.0</td>\n      <td>Yabucoa Municipio, PR</td>\n      <td>Oct-20 p</td>\n      <td>7961</td>\n      <td>7168</td>\n      <td>793</td>\n      <td>10</td>\n    </tr>\n    <tr>\n      <th>45066</th>\n      <td>CN7215300000000</td>\n      <td>72.0</td>\n      <td>153.0</td>\n      <td>Yauco Municipio, PR</td>\n      <td>Oct-20 p</td>\n      <td>9250</td>\n      <td>8321</td>\n      <td>929</td>\n      <td>10</td>\n    </tr>\n    <tr>\n      <th>45067</th>\n      <td>NaN</td>\n      <td>NaN</td>\n      <td>NaN</td>\n      <td>NaN</td>\n      <td>NaN</td>\n      <td>NaN</td>\n      <td>NaN</td>\n      <td>NaN</td>\n      <td>NaN</td>\n    </tr>\n    <tr>\n      <th>45068</th>\n      <td>p = preliminary.</td>\n      <td>NaN</td>\n      <td>NaN</td>\n      <td>NaN</td>\n      <td>NaN</td>\n      <td>NaN</td>\n      <td>NaN</td>\n      <td>NaN</td>\n      <td>SOURCE:  BLS, LAUS</td>\n    </tr>\n    <tr>\n      <th>45069</th>\n      <td>Dash indicates that data are not available.</td>\n      <td>NaN</td>\n      <td>NaN</td>\n      <td>NaN</td>\n      <td>NaN</td>\n      <td>NaN</td>\n      <td>NaN</td>\n      <td>NaN</td>\n      <td>December 3, 2020</td>\n    </tr>\n  </tbody>\n</table>\n<p>45070 rows × 9 columns</p>\n</div>"
     },
     "metadata": {},
     "execution_count": 14
    }
   ],
   "source": [
    "# rename columns to capture multirow columns\n",
    "df = df.rename({'Code': 'FIPS_code_state','Code.1': 'FIPS_code_county', 'Force': 'Labor_force','(%)': 'Unemployment_rate%'}, axis=1)\n",
    "df"
   ]
  },
  {
   "cell_type": "code",
   "execution_count": 15,
   "metadata": {},
   "outputs": [
    {
     "output_type": "execute_result",
     "data": {
      "text/plain": [
       "                                         LAUS Code  FIPS_code_state  \\\n",
       "0                                              NaN              NaN   \n",
       "1                                  CN0100100000000              1.0   \n",
       "2                                  CN0100300000000              1.0   \n",
       "3                                  CN0100500000000              1.0   \n",
       "4                                  CN0100700000000              1.0   \n",
       "...                                            ...              ...   \n",
       "45065                              CN7215100000000             72.0   \n",
       "45066                              CN7215300000000             72.0   \n",
       "45067                                          NaN              NaN   \n",
       "45068                             p = preliminary.              NaN   \n",
       "45069  Dash indicates that data are not available.              NaN   \n",
       "\n",
       "       FIPS_code_county County Name/State Abbreviation    Period Labor_force  \\\n",
       "0                   NaN                            NaN       NaN         NaN   \n",
       "1                   1.0             Autauga County, AL    Sep-19       26010   \n",
       "2                   3.0             Baldwin County, AL    Sep-19       96754   \n",
       "3                   5.0             Barbour County, AL    Sep-19        8656   \n",
       "4                   7.0                Bibb County, AL    Sep-19        8655   \n",
       "...                 ...                            ...       ...         ...   \n",
       "45065             151.0          Yabucoa Municipio, PR  Oct-20 p        7961   \n",
       "45066             153.0            Yauco Municipio, PR  Oct-20 p        9250   \n",
       "45067               NaN                            NaN       NaN         NaN   \n",
       "45068               NaN                            NaN       NaN         NaN   \n",
       "45069               NaN                            NaN       NaN         NaN   \n",
       "\n",
       "      Employed Unemployed  Unemployment_rate%             County State  \n",
       "0          NaN        NaN                 NaN                NaN   NaN  \n",
       "1        25391        619                 2.4     Autauga County    AL  \n",
       "2        94510       2244                 2.3     Baldwin County    AL  \n",
       "3         8376        280                 3.2     Barbour County    AL  \n",
       "4         8430        225                 2.6        Bibb County    AL  \n",
       "...        ...        ...                 ...                ...   ...  \n",
       "45065     7168        793                  10  Yabucoa Municipio    PR  \n",
       "45066     8321        929                  10    Yauco Municipio    PR  \n",
       "45067      NaN        NaN                 NaN                NaN   NaN  \n",
       "45068      NaN        NaN  SOURCE:  BLS, LAUS                NaN   NaN  \n",
       "45069      NaN        NaN    December 3, 2020                NaN   NaN  \n",
       "\n",
       "[45070 rows x 11 columns]"
      ],
      "text/html": "<div>\n<style scoped>\n    .dataframe tbody tr th:only-of-type {\n        vertical-align: middle;\n    }\n\n    .dataframe tbody tr th {\n        vertical-align: top;\n    }\n\n    .dataframe thead th {\n        text-align: right;\n    }\n</style>\n<table border=\"1\" class=\"dataframe\">\n  <thead>\n    <tr style=\"text-align: right;\">\n      <th></th>\n      <th>LAUS Code</th>\n      <th>FIPS_code_state</th>\n      <th>FIPS_code_county</th>\n      <th>County Name/State Abbreviation</th>\n      <th>Period</th>\n      <th>Labor_force</th>\n      <th>Employed</th>\n      <th>Unemployed</th>\n      <th>Unemployment_rate%</th>\n      <th>County</th>\n      <th>State</th>\n    </tr>\n  </thead>\n  <tbody>\n    <tr>\n      <th>0</th>\n      <td>NaN</td>\n      <td>NaN</td>\n      <td>NaN</td>\n      <td>NaN</td>\n      <td>NaN</td>\n      <td>NaN</td>\n      <td>NaN</td>\n      <td>NaN</td>\n      <td>NaN</td>\n      <td>NaN</td>\n      <td>NaN</td>\n    </tr>\n    <tr>\n      <th>1</th>\n      <td>CN0100100000000</td>\n      <td>1.0</td>\n      <td>1.0</td>\n      <td>Autauga County, AL</td>\n      <td>Sep-19</td>\n      <td>26010</td>\n      <td>25391</td>\n      <td>619</td>\n      <td>2.4</td>\n      <td>Autauga County</td>\n      <td>AL</td>\n    </tr>\n    <tr>\n      <th>2</th>\n      <td>CN0100300000000</td>\n      <td>1.0</td>\n      <td>3.0</td>\n      <td>Baldwin County, AL</td>\n      <td>Sep-19</td>\n      <td>96754</td>\n      <td>94510</td>\n      <td>2244</td>\n      <td>2.3</td>\n      <td>Baldwin County</td>\n      <td>AL</td>\n    </tr>\n    <tr>\n      <th>3</th>\n      <td>CN0100500000000</td>\n      <td>1.0</td>\n      <td>5.0</td>\n      <td>Barbour County, AL</td>\n      <td>Sep-19</td>\n      <td>8656</td>\n      <td>8376</td>\n      <td>280</td>\n      <td>3.2</td>\n      <td>Barbour County</td>\n      <td>AL</td>\n    </tr>\n    <tr>\n      <th>4</th>\n      <td>CN0100700000000</td>\n      <td>1.0</td>\n      <td>7.0</td>\n      <td>Bibb County, AL</td>\n      <td>Sep-19</td>\n      <td>8655</td>\n      <td>8430</td>\n      <td>225</td>\n      <td>2.6</td>\n      <td>Bibb County</td>\n      <td>AL</td>\n    </tr>\n    <tr>\n      <th>...</th>\n      <td>...</td>\n      <td>...</td>\n      <td>...</td>\n      <td>...</td>\n      <td>...</td>\n      <td>...</td>\n      <td>...</td>\n      <td>...</td>\n      <td>...</td>\n      <td>...</td>\n      <td>...</td>\n    </tr>\n    <tr>\n      <th>45065</th>\n      <td>CN7215100000000</td>\n      <td>72.0</td>\n      <td>151.0</td>\n      <td>Yabucoa Municipio, PR</td>\n      <td>Oct-20 p</td>\n      <td>7961</td>\n      <td>7168</td>\n      <td>793</td>\n      <td>10</td>\n      <td>Yabucoa Municipio</td>\n      <td>PR</td>\n    </tr>\n    <tr>\n      <th>45066</th>\n      <td>CN7215300000000</td>\n      <td>72.0</td>\n      <td>153.0</td>\n      <td>Yauco Municipio, PR</td>\n      <td>Oct-20 p</td>\n      <td>9250</td>\n      <td>8321</td>\n      <td>929</td>\n      <td>10</td>\n      <td>Yauco Municipio</td>\n      <td>PR</td>\n    </tr>\n    <tr>\n      <th>45067</th>\n      <td>NaN</td>\n      <td>NaN</td>\n      <td>NaN</td>\n      <td>NaN</td>\n      <td>NaN</td>\n      <td>NaN</td>\n      <td>NaN</td>\n      <td>NaN</td>\n      <td>NaN</td>\n      <td>NaN</td>\n      <td>NaN</td>\n    </tr>\n    <tr>\n      <th>45068</th>\n      <td>p = preliminary.</td>\n      <td>NaN</td>\n      <td>NaN</td>\n      <td>NaN</td>\n      <td>NaN</td>\n      <td>NaN</td>\n      <td>NaN</td>\n      <td>NaN</td>\n      <td>SOURCE:  BLS, LAUS</td>\n      <td>NaN</td>\n      <td>NaN</td>\n    </tr>\n    <tr>\n      <th>45069</th>\n      <td>Dash indicates that data are not available.</td>\n      <td>NaN</td>\n      <td>NaN</td>\n      <td>NaN</td>\n      <td>NaN</td>\n      <td>NaN</td>\n      <td>NaN</td>\n      <td>NaN</td>\n      <td>December 3, 2020</td>\n      <td>NaN</td>\n      <td>NaN</td>\n    </tr>\n  </tbody>\n</table>\n<p>45070 rows × 11 columns</p>\n</div>"
     },
     "metadata": {},
     "execution_count": 15
    }
   ],
   "source": [
    "# split county name and state name\n",
    "df[['County', 'State']] = df['County Name/State Abbreviation'].str.split(', ', expand=True)\n",
    "df"
   ]
  },
  {
   "cell_type": "code",
   "execution_count": 16,
   "metadata": {},
   "outputs": [],
   "source": [
    "# ensure states went through correctly (length should be 2)"
   ]
  },
  {
   "cell_type": "code",
   "execution_count": 17,
   "metadata": {},
   "outputs": [
    {
     "output_type": "execute_result",
     "data": {
      "text/plain": [
       "             LAUS Code  FIPS_code_state  FIPS_code_county  \\\n",
       "1      CN0100100000000              1.0               1.0   \n",
       "2      CN0100300000000              1.0               3.0   \n",
       "3      CN0100500000000              1.0               5.0   \n",
       "4      CN0100700000000              1.0               7.0   \n",
       "5      CN0100900000000              1.0               9.0   \n",
       "...                ...              ...               ...   \n",
       "45062  CN7214500000000             72.0             145.0   \n",
       "45063  CN7214700000000             72.0             147.0   \n",
       "45064  CN7214900000000             72.0             149.0   \n",
       "45065  CN7215100000000             72.0             151.0   \n",
       "45066  CN7215300000000             72.0             153.0   \n",
       "\n",
       "      County Name/State Abbreviation  Period Labor_force Employed Unemployed  \\\n",
       "1                 Autauga County, AL  Sep-19       26010    25391        619   \n",
       "2                 Baldwin County, AL  Sep-19       96754    94510       2244   \n",
       "3                 Barbour County, AL  Sep-19        8656     8376        280   \n",
       "4                    Bibb County, AL  Sep-19        8655     8430        225   \n",
       "5                  Blount County, AL  Sep-19       25351    24763        588   \n",
       "...                              ...     ...         ...      ...        ...   \n",
       "45062        Vega Baja Municipio, PR  Oct-20       12543    11146       1397   \n",
       "45063          Vieques Municipio, PR  Oct-20        2386     2133        253   \n",
       "45064         Villalba Municipio, PR  Oct-20        6603     5969        634   \n",
       "45065          Yabucoa Municipio, PR  Oct-20        7961     7168        793   \n",
       "45066            Yauco Municipio, PR  Oct-20        9250     8321        929   \n",
       "\n",
       "      Unemployment_rate%               County State  Preliminary  \n",
       "1                    2.4       Autauga County    AL        False  \n",
       "2                    2.3       Baldwin County    AL        False  \n",
       "3                    3.2       Barbour County    AL        False  \n",
       "4                    2.6          Bibb County    AL        False  \n",
       "5                    2.3        Blount County    AL        False  \n",
       "...                  ...                  ...   ...          ...  \n",
       "45062               11.1  Vega Baja Municipio    PR         True  \n",
       "45063               10.6    Vieques Municipio    PR         True  \n",
       "45064                9.6   Villalba Municipio    PR         True  \n",
       "45065                 10    Yabucoa Municipio    PR         True  \n",
       "45066                 10      Yauco Municipio    PR         True  \n",
       "\n",
       "[45066 rows x 12 columns]"
      ],
      "text/html": "<div>\n<style scoped>\n    .dataframe tbody tr th:only-of-type {\n        vertical-align: middle;\n    }\n\n    .dataframe tbody tr th {\n        vertical-align: top;\n    }\n\n    .dataframe thead th {\n        text-align: right;\n    }\n</style>\n<table border=\"1\" class=\"dataframe\">\n  <thead>\n    <tr style=\"text-align: right;\">\n      <th></th>\n      <th>LAUS Code</th>\n      <th>FIPS_code_state</th>\n      <th>FIPS_code_county</th>\n      <th>County Name/State Abbreviation</th>\n      <th>Period</th>\n      <th>Labor_force</th>\n      <th>Employed</th>\n      <th>Unemployed</th>\n      <th>Unemployment_rate%</th>\n      <th>County</th>\n      <th>State</th>\n      <th>Preliminary</th>\n    </tr>\n  </thead>\n  <tbody>\n    <tr>\n      <th>1</th>\n      <td>CN0100100000000</td>\n      <td>1.0</td>\n      <td>1.0</td>\n      <td>Autauga County, AL</td>\n      <td>Sep-19</td>\n      <td>26010</td>\n      <td>25391</td>\n      <td>619</td>\n      <td>2.4</td>\n      <td>Autauga County</td>\n      <td>AL</td>\n      <td>False</td>\n    </tr>\n    <tr>\n      <th>2</th>\n      <td>CN0100300000000</td>\n      <td>1.0</td>\n      <td>3.0</td>\n      <td>Baldwin County, AL</td>\n      <td>Sep-19</td>\n      <td>96754</td>\n      <td>94510</td>\n      <td>2244</td>\n      <td>2.3</td>\n      <td>Baldwin County</td>\n      <td>AL</td>\n      <td>False</td>\n    </tr>\n    <tr>\n      <th>3</th>\n      <td>CN0100500000000</td>\n      <td>1.0</td>\n      <td>5.0</td>\n      <td>Barbour County, AL</td>\n      <td>Sep-19</td>\n      <td>8656</td>\n      <td>8376</td>\n      <td>280</td>\n      <td>3.2</td>\n      <td>Barbour County</td>\n      <td>AL</td>\n      <td>False</td>\n    </tr>\n    <tr>\n      <th>4</th>\n      <td>CN0100700000000</td>\n      <td>1.0</td>\n      <td>7.0</td>\n      <td>Bibb County, AL</td>\n      <td>Sep-19</td>\n      <td>8655</td>\n      <td>8430</td>\n      <td>225</td>\n      <td>2.6</td>\n      <td>Bibb County</td>\n      <td>AL</td>\n      <td>False</td>\n    </tr>\n    <tr>\n      <th>5</th>\n      <td>CN0100900000000</td>\n      <td>1.0</td>\n      <td>9.0</td>\n      <td>Blount County, AL</td>\n      <td>Sep-19</td>\n      <td>25351</td>\n      <td>24763</td>\n      <td>588</td>\n      <td>2.3</td>\n      <td>Blount County</td>\n      <td>AL</td>\n      <td>False</td>\n    </tr>\n    <tr>\n      <th>...</th>\n      <td>...</td>\n      <td>...</td>\n      <td>...</td>\n      <td>...</td>\n      <td>...</td>\n      <td>...</td>\n      <td>...</td>\n      <td>...</td>\n      <td>...</td>\n      <td>...</td>\n      <td>...</td>\n      <td>...</td>\n    </tr>\n    <tr>\n      <th>45062</th>\n      <td>CN7214500000000</td>\n      <td>72.0</td>\n      <td>145.0</td>\n      <td>Vega Baja Municipio, PR</td>\n      <td>Oct-20</td>\n      <td>12543</td>\n      <td>11146</td>\n      <td>1397</td>\n      <td>11.1</td>\n      <td>Vega Baja Municipio</td>\n      <td>PR</td>\n      <td>True</td>\n    </tr>\n    <tr>\n      <th>45063</th>\n      <td>CN7214700000000</td>\n      <td>72.0</td>\n      <td>147.0</td>\n      <td>Vieques Municipio, PR</td>\n      <td>Oct-20</td>\n      <td>2386</td>\n      <td>2133</td>\n      <td>253</td>\n      <td>10.6</td>\n      <td>Vieques Municipio</td>\n      <td>PR</td>\n      <td>True</td>\n    </tr>\n    <tr>\n      <th>45064</th>\n      <td>CN7214900000000</td>\n      <td>72.0</td>\n      <td>149.0</td>\n      <td>Villalba Municipio, PR</td>\n      <td>Oct-20</td>\n      <td>6603</td>\n      <td>5969</td>\n      <td>634</td>\n      <td>9.6</td>\n      <td>Villalba Municipio</td>\n      <td>PR</td>\n      <td>True</td>\n    </tr>\n    <tr>\n      <th>45065</th>\n      <td>CN7215100000000</td>\n      <td>72.0</td>\n      <td>151.0</td>\n      <td>Yabucoa Municipio, PR</td>\n      <td>Oct-20</td>\n      <td>7961</td>\n      <td>7168</td>\n      <td>793</td>\n      <td>10</td>\n      <td>Yabucoa Municipio</td>\n      <td>PR</td>\n      <td>True</td>\n    </tr>\n    <tr>\n      <th>45066</th>\n      <td>CN7215300000000</td>\n      <td>72.0</td>\n      <td>153.0</td>\n      <td>Yauco Municipio, PR</td>\n      <td>Oct-20</td>\n      <td>9250</td>\n      <td>8321</td>\n      <td>929</td>\n      <td>10</td>\n      <td>Yauco Municipio</td>\n      <td>PR</td>\n      <td>True</td>\n    </tr>\n  </tbody>\n</table>\n<p>45066 rows × 12 columns</p>\n</div>"
     },
     "metadata": {},
     "execution_count": 17
    }
   ],
   "source": [
    "# add column for 'preliminary'\n",
    "df['Preliminary'] = np.where(df['Period'].str.contains(' p'),True,False)\n",
    "\n",
    "# remove p's\n",
    "df['Period'] = df['Period'].str.replace(' p','')\n",
    "\n",
    "# remove rows in header and footer that are empty\n",
    "df = df[1:-3]\n",
    "df\n"
   ]
  },
  {
   "cell_type": "code",
   "execution_count": 28,
   "metadata": {},
   "outputs": [
    {
     "output_type": "execute_result",
     "data": {
      "text/plain": [
       "             LAUS Code  FIPS_code_state  FIPS_code_county  \\\n",
       "22456  CN7200100000000             72.0               1.0   \n",
       "22457  CN7200300000000             72.0               3.0   \n",
       "22458  CN7200500000000             72.0               5.0   \n",
       "22459  CN7200700000000             72.0               7.0   \n",
       "22460  CN7200900000000             72.0               9.0   \n",
       "...                ...              ...               ...   \n",
       "25748  CN7214500000000             72.0             145.0   \n",
       "25749  CN7214700000000             72.0             147.0   \n",
       "25750  CN7214900000000             72.0             149.0   \n",
       "25751  CN7215100000000             72.0             151.0   \n",
       "25752  CN7215300000000             72.0             153.0   \n",
       "\n",
       "      County Name/State Abbreviation  Period Labor_force Employed Unemployed  \\\n",
       "22456         Adjuntas Municipio, PR  Mar-20           –        –          –   \n",
       "22457           Aguada Municipio, PR  Mar-20           –        –          –   \n",
       "22458        Aguadilla Municipio, PR  Mar-20           –        –          –   \n",
       "22459     Aguas Buenas Municipio, PR  Mar-20           –        –          –   \n",
       "22460         Aibonito Municipio, PR  Mar-20           –        –          –   \n",
       "...                              ...     ...         ...      ...        ...   \n",
       "25748        Vega Baja Municipio, PR  Apr-20           –        –          –   \n",
       "25749          Vieques Municipio, PR  Apr-20           –        –          –   \n",
       "25750         Villalba Municipio, PR  Apr-20           –        –          –   \n",
       "25751          Yabucoa Municipio, PR  Apr-20           –        –          –   \n",
       "25752            Yauco Municipio, PR  Apr-20           –        –          –   \n",
       "\n",
       "      Unemployment_rate%                  County State  Preliminary  \\\n",
       "22456                  –      Adjuntas Municipio    PR        False   \n",
       "22457                  –        Aguada Municipio    PR        False   \n",
       "22458                  –     Aguadilla Municipio    PR        False   \n",
       "22459                  –  Aguas Buenas Municipio    PR        False   \n",
       "22460                  –      Aibonito Municipio    PR        False   \n",
       "...                  ...                     ...   ...          ...   \n",
       "25748                  –     Vega Baja Municipio    PR        False   \n",
       "25749                  –       Vieques Municipio    PR        False   \n",
       "25750                  –      Villalba Municipio    PR        False   \n",
       "25751                  –       Yabucoa Municipio    PR        False   \n",
       "25752                  –         Yauco Municipio    PR        False   \n",
       "\n",
       "      Labor_force_NA Employed_NA Unemployed_NA Unemployment_rate%_NA  \n",
       "22456           True        True          True                  True  \n",
       "22457           True        True          True                  True  \n",
       "22458           True        True          True                  True  \n",
       "22459           True        True          True                  True  \n",
       "22460           True        True          True                  True  \n",
       "...              ...         ...           ...                   ...  \n",
       "25748           True        True          True                  True  \n",
       "25749           True        True          True                  True  \n",
       "25750           True        True          True                  True  \n",
       "25751           True        True          True                  True  \n",
       "25752           True        True          True                  True  \n",
       "\n",
       "[156 rows x 16 columns]"
      ],
      "text/html": "<div>\n<style scoped>\n    .dataframe tbody tr th:only-of-type {\n        vertical-align: middle;\n    }\n\n    .dataframe tbody tr th {\n        vertical-align: top;\n    }\n\n    .dataframe thead th {\n        text-align: right;\n    }\n</style>\n<table border=\"1\" class=\"dataframe\">\n  <thead>\n    <tr style=\"text-align: right;\">\n      <th></th>\n      <th>LAUS Code</th>\n      <th>FIPS_code_state</th>\n      <th>FIPS_code_county</th>\n      <th>County Name/State Abbreviation</th>\n      <th>Period</th>\n      <th>Labor_force</th>\n      <th>Employed</th>\n      <th>Unemployed</th>\n      <th>Unemployment_rate%</th>\n      <th>County</th>\n      <th>State</th>\n      <th>Preliminary</th>\n      <th>Labor_force_NA</th>\n      <th>Employed_NA</th>\n      <th>Unemployed_NA</th>\n      <th>Unemployment_rate%_NA</th>\n    </tr>\n  </thead>\n  <tbody>\n    <tr>\n      <th>22456</th>\n      <td>CN7200100000000</td>\n      <td>72.0</td>\n      <td>1.0</td>\n      <td>Adjuntas Municipio, PR</td>\n      <td>Mar-20</td>\n      <td>–</td>\n      <td>–</td>\n      <td>–</td>\n      <td>–</td>\n      <td>Adjuntas Municipio</td>\n      <td>PR</td>\n      <td>False</td>\n      <td>True</td>\n      <td>True</td>\n      <td>True</td>\n      <td>True</td>\n    </tr>\n    <tr>\n      <th>22457</th>\n      <td>CN7200300000000</td>\n      <td>72.0</td>\n      <td>3.0</td>\n      <td>Aguada Municipio, PR</td>\n      <td>Mar-20</td>\n      <td>–</td>\n      <td>–</td>\n      <td>–</td>\n      <td>–</td>\n      <td>Aguada Municipio</td>\n      <td>PR</td>\n      <td>False</td>\n      <td>True</td>\n      <td>True</td>\n      <td>True</td>\n      <td>True</td>\n    </tr>\n    <tr>\n      <th>22458</th>\n      <td>CN7200500000000</td>\n      <td>72.0</td>\n      <td>5.0</td>\n      <td>Aguadilla Municipio, PR</td>\n      <td>Mar-20</td>\n      <td>–</td>\n      <td>–</td>\n      <td>–</td>\n      <td>–</td>\n      <td>Aguadilla Municipio</td>\n      <td>PR</td>\n      <td>False</td>\n      <td>True</td>\n      <td>True</td>\n      <td>True</td>\n      <td>True</td>\n    </tr>\n    <tr>\n      <th>22459</th>\n      <td>CN7200700000000</td>\n      <td>72.0</td>\n      <td>7.0</td>\n      <td>Aguas Buenas Municipio, PR</td>\n      <td>Mar-20</td>\n      <td>–</td>\n      <td>–</td>\n      <td>–</td>\n      <td>–</td>\n      <td>Aguas Buenas Municipio</td>\n      <td>PR</td>\n      <td>False</td>\n      <td>True</td>\n      <td>True</td>\n      <td>True</td>\n      <td>True</td>\n    </tr>\n    <tr>\n      <th>22460</th>\n      <td>CN7200900000000</td>\n      <td>72.0</td>\n      <td>9.0</td>\n      <td>Aibonito Municipio, PR</td>\n      <td>Mar-20</td>\n      <td>–</td>\n      <td>–</td>\n      <td>–</td>\n      <td>–</td>\n      <td>Aibonito Municipio</td>\n      <td>PR</td>\n      <td>False</td>\n      <td>True</td>\n      <td>True</td>\n      <td>True</td>\n      <td>True</td>\n    </tr>\n    <tr>\n      <th>...</th>\n      <td>...</td>\n      <td>...</td>\n      <td>...</td>\n      <td>...</td>\n      <td>...</td>\n      <td>...</td>\n      <td>...</td>\n      <td>...</td>\n      <td>...</td>\n      <td>...</td>\n      <td>...</td>\n      <td>...</td>\n      <td>...</td>\n      <td>...</td>\n      <td>...</td>\n      <td>...</td>\n    </tr>\n    <tr>\n      <th>25748</th>\n      <td>CN7214500000000</td>\n      <td>72.0</td>\n      <td>145.0</td>\n      <td>Vega Baja Municipio, PR</td>\n      <td>Apr-20</td>\n      <td>–</td>\n      <td>–</td>\n      <td>–</td>\n      <td>–</td>\n      <td>Vega Baja Municipio</td>\n      <td>PR</td>\n      <td>False</td>\n      <td>True</td>\n      <td>True</td>\n      <td>True</td>\n      <td>True</td>\n    </tr>\n    <tr>\n      <th>25749</th>\n      <td>CN7214700000000</td>\n      <td>72.0</td>\n      <td>147.0</td>\n      <td>Vieques Municipio, PR</td>\n      <td>Apr-20</td>\n      <td>–</td>\n      <td>–</td>\n      <td>–</td>\n      <td>–</td>\n      <td>Vieques Municipio</td>\n      <td>PR</td>\n      <td>False</td>\n      <td>True</td>\n      <td>True</td>\n      <td>True</td>\n      <td>True</td>\n    </tr>\n    <tr>\n      <th>25750</th>\n      <td>CN7214900000000</td>\n      <td>72.0</td>\n      <td>149.0</td>\n      <td>Villalba Municipio, PR</td>\n      <td>Apr-20</td>\n      <td>–</td>\n      <td>–</td>\n      <td>–</td>\n      <td>–</td>\n      <td>Villalba Municipio</td>\n      <td>PR</td>\n      <td>False</td>\n      <td>True</td>\n      <td>True</td>\n      <td>True</td>\n      <td>True</td>\n    </tr>\n    <tr>\n      <th>25751</th>\n      <td>CN7215100000000</td>\n      <td>72.0</td>\n      <td>151.0</td>\n      <td>Yabucoa Municipio, PR</td>\n      <td>Apr-20</td>\n      <td>–</td>\n      <td>–</td>\n      <td>–</td>\n      <td>–</td>\n      <td>Yabucoa Municipio</td>\n      <td>PR</td>\n      <td>False</td>\n      <td>True</td>\n      <td>True</td>\n      <td>True</td>\n      <td>True</td>\n    </tr>\n    <tr>\n      <th>25752</th>\n      <td>CN7215300000000</td>\n      <td>72.0</td>\n      <td>153.0</td>\n      <td>Yauco Municipio, PR</td>\n      <td>Apr-20</td>\n      <td>–</td>\n      <td>–</td>\n      <td>–</td>\n      <td>–</td>\n      <td>Yauco Municipio</td>\n      <td>PR</td>\n      <td>False</td>\n      <td>True</td>\n      <td>True</td>\n      <td>True</td>\n      <td>True</td>\n    </tr>\n  </tbody>\n</table>\n<p>156 rows × 16 columns</p>\n</div>"
     },
     "metadata": {},
     "execution_count": 28
    }
   ],
   "source": [
    "# for each quantitative measure create a column to capture if there is a '-'. If there is then remove the dash and replace with a zero.  In this case a dash means that data was unavailable.\n",
    "\n",
    "# Labor_force\n",
    "df.loc[df['Labor_force']=='–', 'Labor_force_NA']=True\n",
    "df.loc[df['Labor_force']!='–', 'Labor_force_NA']=False\n",
    "\n",
    "# Employed\n",
    "df.loc[df['Employed']=='–', 'Employed_NA']=True\n",
    "df.loc[df['Employed']!='–', 'Employed_NA']=False\n",
    "\n",
    "# Unemployed\n",
    "df.loc[df['Unemployed']=='–', 'Unemployed_NA']=True\n",
    "df.loc[df['Unemployed']!='–', 'Unemployed_NA']=False\n",
    "\n",
    "# Unemployment_rate%\n",
    "df.loc[df['Unemployment_rate%']=='–', 'Unemployment_rate%_NA']=True\n",
    "df.loc[df['Unemployment_rate%']!='–', 'Unemployment_rate%_NA']=False\n",
    "\n",
    "df.loc[df['Labor_force']=='–']\n",
    "# df"
   ]
  },
  {
   "cell_type": "code",
   "execution_count": 33,
   "metadata": {},
   "outputs": [
    {
     "output_type": "stream",
     "name": "stdout",
     "text": [
      "Empty DataFrame\nColumns: [LAUS Code, FIPS_code_state, FIPS_code_county, County Name/State Abbreviation, Period, Labor_force, Employed, Unemployed, Unemployment_rate%, County, State, Preliminary, Labor_force_NA, Employed_NA, Unemployed_NA, Unemployment_rate%_NA]\nIndex: []\n             LAUS Code  FIPS_code_state  FIPS_code_county  \\\n22456  CN7200100000000             72.0               1.0   \n22457  CN7200300000000             72.0               3.0   \n22458  CN7200500000000             72.0               5.0   \n22459  CN7200700000000             72.0               7.0   \n22460  CN7200900000000             72.0               9.0   \n...                ...              ...               ...   \n25748  CN7214500000000             72.0             145.0   \n25749  CN7214700000000             72.0             147.0   \n25750  CN7214900000000             72.0             149.0   \n25751  CN7215100000000             72.0             151.0   \n25752  CN7215300000000             72.0             153.0   \n\n      County Name/State Abbreviation  Period Labor_force Employed Unemployed  \\\n22456         Adjuntas Municipio, PR  Mar-20           0        0          0   \n22457           Aguada Municipio, PR  Mar-20           0        0          0   \n22458        Aguadilla Municipio, PR  Mar-20           0        0          0   \n22459     Aguas Buenas Municipio, PR  Mar-20           0        0          0   \n22460         Aibonito Municipio, PR  Mar-20           0        0          0   \n...                              ...     ...         ...      ...        ...   \n25748        Vega Baja Municipio, PR  Apr-20           0        0          0   \n25749          Vieques Municipio, PR  Apr-20           0        0          0   \n25750         Villalba Municipio, PR  Apr-20           0        0          0   \n25751          Yabucoa Municipio, PR  Apr-20           0        0          0   \n25752            Yauco Municipio, PR  Apr-20           0        0          0   \n\n      Unemployment_rate%                  County State  Preliminary  \\\n22456                  0      Adjuntas Municipio    PR        False   \n22457                  0        Aguada Municipio    PR        False   \n22458                  0     Aguadilla Municipio    PR        False   \n22459                  0  Aguas Buenas Municipio    PR        False   \n22460                  0      Aibonito Municipio    PR        False   \n...                  ...                     ...   ...          ...   \n25748                  0     Vega Baja Municipio    PR        False   \n25749                  0       Vieques Municipio    PR        False   \n25750                  0      Villalba Municipio    PR        False   \n25751                  0       Yabucoa Municipio    PR        False   \n25752                  0         Yauco Municipio    PR        False   \n\n      Labor_force_NA Employed_NA Unemployed_NA Unemployment_rate%_NA  \n22456           True        True          True                  True  \n22457           True        True          True                  True  \n22458           True        True          True                  True  \n22459           True        True          True                  True  \n22460           True        True          True                  True  \n...              ...         ...           ...                   ...  \n25748           True        True          True                  True  \n25749           True        True          True                  True  \n25750           True        True          True                  True  \n25751           True        True          True                  True  \n25752           True        True          True                  True  \n\n[156 rows x 16 columns]\n"
     ]
    },
    {
     "output_type": "execute_result",
     "data": {
      "text/plain": [
       "             LAUS Code  FIPS_code_state  FIPS_code_county  \\\n",
       "1      CN0100100000000              1.0               1.0   \n",
       "2      CN0100300000000              1.0               3.0   \n",
       "3      CN0100500000000              1.0               5.0   \n",
       "4      CN0100700000000              1.0               7.0   \n",
       "5      CN0100900000000              1.0               9.0   \n",
       "...                ...              ...               ...   \n",
       "45062  CN7214500000000             72.0             145.0   \n",
       "45063  CN7214700000000             72.0             147.0   \n",
       "45064  CN7214900000000             72.0             149.0   \n",
       "45065  CN7215100000000             72.0             151.0   \n",
       "45066  CN7215300000000             72.0             153.0   \n",
       "\n",
       "      County Name/State Abbreviation  Period Labor_force Employed Unemployed  \\\n",
       "1                 Autauga County, AL  Sep-19       26010    25391        619   \n",
       "2                 Baldwin County, AL  Sep-19       96754    94510       2244   \n",
       "3                 Barbour County, AL  Sep-19        8656     8376        280   \n",
       "4                    Bibb County, AL  Sep-19        8655     8430        225   \n",
       "5                  Blount County, AL  Sep-19       25351    24763        588   \n",
       "...                              ...     ...         ...      ...        ...   \n",
       "45062        Vega Baja Municipio, PR  Oct-20       12543    11146       1397   \n",
       "45063          Vieques Municipio, PR  Oct-20        2386     2133        253   \n",
       "45064         Villalba Municipio, PR  Oct-20        6603     5969        634   \n",
       "45065          Yabucoa Municipio, PR  Oct-20        7961     7168        793   \n",
       "45066            Yauco Municipio, PR  Oct-20        9250     8321        929   \n",
       "\n",
       "      Unemployment_rate%               County State  Preliminary  \\\n",
       "1                    2.4       Autauga County    AL        False   \n",
       "2                    2.3       Baldwin County    AL        False   \n",
       "3                    3.2       Barbour County    AL        False   \n",
       "4                    2.6          Bibb County    AL        False   \n",
       "5                    2.3        Blount County    AL        False   \n",
       "...                  ...                  ...   ...          ...   \n",
       "45062               11.1  Vega Baja Municipio    PR         True   \n",
       "45063               10.6    Vieques Municipio    PR         True   \n",
       "45064                9.6   Villalba Municipio    PR         True   \n",
       "45065                 10    Yabucoa Municipio    PR         True   \n",
       "45066                 10      Yauco Municipio    PR         True   \n",
       "\n",
       "      Labor_force_NA Employed_NA Unemployed_NA Unemployment_rate%_NA  \n",
       "1              False       False         False                 False  \n",
       "2              False       False         False                 False  \n",
       "3              False       False         False                 False  \n",
       "4              False       False         False                 False  \n",
       "5              False       False         False                 False  \n",
       "...              ...         ...           ...                   ...  \n",
       "45062          False       False         False                 False  \n",
       "45063          False       False         False                 False  \n",
       "45064          False       False         False                 False  \n",
       "45065          False       False         False                 False  \n",
       "45066          False       False         False                 False  \n",
       "\n",
       "[45066 rows x 16 columns]"
      ],
      "text/html": "<div>\n<style scoped>\n    .dataframe tbody tr th:only-of-type {\n        vertical-align: middle;\n    }\n\n    .dataframe tbody tr th {\n        vertical-align: top;\n    }\n\n    .dataframe thead th {\n        text-align: right;\n    }\n</style>\n<table border=\"1\" class=\"dataframe\">\n  <thead>\n    <tr style=\"text-align: right;\">\n      <th></th>\n      <th>LAUS Code</th>\n      <th>FIPS_code_state</th>\n      <th>FIPS_code_county</th>\n      <th>County Name/State Abbreviation</th>\n      <th>Period</th>\n      <th>Labor_force</th>\n      <th>Employed</th>\n      <th>Unemployed</th>\n      <th>Unemployment_rate%</th>\n      <th>County</th>\n      <th>State</th>\n      <th>Preliminary</th>\n      <th>Labor_force_NA</th>\n      <th>Employed_NA</th>\n      <th>Unemployed_NA</th>\n      <th>Unemployment_rate%_NA</th>\n    </tr>\n  </thead>\n  <tbody>\n    <tr>\n      <th>1</th>\n      <td>CN0100100000000</td>\n      <td>1.0</td>\n      <td>1.0</td>\n      <td>Autauga County, AL</td>\n      <td>Sep-19</td>\n      <td>26010</td>\n      <td>25391</td>\n      <td>619</td>\n      <td>2.4</td>\n      <td>Autauga County</td>\n      <td>AL</td>\n      <td>False</td>\n      <td>False</td>\n      <td>False</td>\n      <td>False</td>\n      <td>False</td>\n    </tr>\n    <tr>\n      <th>2</th>\n      <td>CN0100300000000</td>\n      <td>1.0</td>\n      <td>3.0</td>\n      <td>Baldwin County, AL</td>\n      <td>Sep-19</td>\n      <td>96754</td>\n      <td>94510</td>\n      <td>2244</td>\n      <td>2.3</td>\n      <td>Baldwin County</td>\n      <td>AL</td>\n      <td>False</td>\n      <td>False</td>\n      <td>False</td>\n      <td>False</td>\n      <td>False</td>\n    </tr>\n    <tr>\n      <th>3</th>\n      <td>CN0100500000000</td>\n      <td>1.0</td>\n      <td>5.0</td>\n      <td>Barbour County, AL</td>\n      <td>Sep-19</td>\n      <td>8656</td>\n      <td>8376</td>\n      <td>280</td>\n      <td>3.2</td>\n      <td>Barbour County</td>\n      <td>AL</td>\n      <td>False</td>\n      <td>False</td>\n      <td>False</td>\n      <td>False</td>\n      <td>False</td>\n    </tr>\n    <tr>\n      <th>4</th>\n      <td>CN0100700000000</td>\n      <td>1.0</td>\n      <td>7.0</td>\n      <td>Bibb County, AL</td>\n      <td>Sep-19</td>\n      <td>8655</td>\n      <td>8430</td>\n      <td>225</td>\n      <td>2.6</td>\n      <td>Bibb County</td>\n      <td>AL</td>\n      <td>False</td>\n      <td>False</td>\n      <td>False</td>\n      <td>False</td>\n      <td>False</td>\n    </tr>\n    <tr>\n      <th>5</th>\n      <td>CN0100900000000</td>\n      <td>1.0</td>\n      <td>9.0</td>\n      <td>Blount County, AL</td>\n      <td>Sep-19</td>\n      <td>25351</td>\n      <td>24763</td>\n      <td>588</td>\n      <td>2.3</td>\n      <td>Blount County</td>\n      <td>AL</td>\n      <td>False</td>\n      <td>False</td>\n      <td>False</td>\n      <td>False</td>\n      <td>False</td>\n    </tr>\n    <tr>\n      <th>...</th>\n      <td>...</td>\n      <td>...</td>\n      <td>...</td>\n      <td>...</td>\n      <td>...</td>\n      <td>...</td>\n      <td>...</td>\n      <td>...</td>\n      <td>...</td>\n      <td>...</td>\n      <td>...</td>\n      <td>...</td>\n      <td>...</td>\n      <td>...</td>\n      <td>...</td>\n      <td>...</td>\n    </tr>\n    <tr>\n      <th>45062</th>\n      <td>CN7214500000000</td>\n      <td>72.0</td>\n      <td>145.0</td>\n      <td>Vega Baja Municipio, PR</td>\n      <td>Oct-20</td>\n      <td>12543</td>\n      <td>11146</td>\n      <td>1397</td>\n      <td>11.1</td>\n      <td>Vega Baja Municipio</td>\n      <td>PR</td>\n      <td>True</td>\n      <td>False</td>\n      <td>False</td>\n      <td>False</td>\n      <td>False</td>\n    </tr>\n    <tr>\n      <th>45063</th>\n      <td>CN7214700000000</td>\n      <td>72.0</td>\n      <td>147.0</td>\n      <td>Vieques Municipio, PR</td>\n      <td>Oct-20</td>\n      <td>2386</td>\n      <td>2133</td>\n      <td>253</td>\n      <td>10.6</td>\n      <td>Vieques Municipio</td>\n      <td>PR</td>\n      <td>True</td>\n      <td>False</td>\n      <td>False</td>\n      <td>False</td>\n      <td>False</td>\n    </tr>\n    <tr>\n      <th>45064</th>\n      <td>CN7214900000000</td>\n      <td>72.0</td>\n      <td>149.0</td>\n      <td>Villalba Municipio, PR</td>\n      <td>Oct-20</td>\n      <td>6603</td>\n      <td>5969</td>\n      <td>634</td>\n      <td>9.6</td>\n      <td>Villalba Municipio</td>\n      <td>PR</td>\n      <td>True</td>\n      <td>False</td>\n      <td>False</td>\n      <td>False</td>\n      <td>False</td>\n    </tr>\n    <tr>\n      <th>45065</th>\n      <td>CN7215100000000</td>\n      <td>72.0</td>\n      <td>151.0</td>\n      <td>Yabucoa Municipio, PR</td>\n      <td>Oct-20</td>\n      <td>7961</td>\n      <td>7168</td>\n      <td>793</td>\n      <td>10</td>\n      <td>Yabucoa Municipio</td>\n      <td>PR</td>\n      <td>True</td>\n      <td>False</td>\n      <td>False</td>\n      <td>False</td>\n      <td>False</td>\n    </tr>\n    <tr>\n      <th>45066</th>\n      <td>CN7215300000000</td>\n      <td>72.0</td>\n      <td>153.0</td>\n      <td>Yauco Municipio, PR</td>\n      <td>Oct-20</td>\n      <td>9250</td>\n      <td>8321</td>\n      <td>929</td>\n      <td>10</td>\n      <td>Yauco Municipio</td>\n      <td>PR</td>\n      <td>True</td>\n      <td>False</td>\n      <td>False</td>\n      <td>False</td>\n      <td>False</td>\n    </tr>\n  </tbody>\n</table>\n<p>45066 rows × 16 columns</p>\n</div>"
     },
     "metadata": {},
     "execution_count": 33
    }
   ],
   "source": [
    "# remove dashes and replace with zeros (see block above)\n",
    "\n",
    "# Labor_force\n",
    "df['Labor_force'].replace({'–':'0'}, inplace=True)\n",
    "\n",
    "# Employed\n",
    "df['Employed'].replace({'–':'0'}, inplace=True)\n",
    "\n",
    "# Unemployed\n",
    "df['Unemployed'].replace({'–':'0'}, inplace=True)\n",
    "\n",
    "# Unemployment_rate%\n",
    "df['Unemployment_rate%'].replace({'–':'0'}, inplace=True)\n",
    "\n",
    "print(df.loc[df['Labor_force']=='–'])\n",
    "print(df.loc[df['Labor_force']=='0'])"
   ]
  },
  {
   "cell_type": "code",
   "execution_count": 18,
   "metadata": {},
   "outputs": [
    {
     "output_type": "execute_result",
     "data": {
      "text/plain": [
       "LAUS Code                          object\n",
       "FIPS_code_state                   float64\n",
       "FIPS_code_county                  float64\n",
       "County Name/State Abbreviation     object\n",
       "Period                             object\n",
       "Labor_force                        object\n",
       "Employed                           object\n",
       "Unemployed                         object\n",
       "Unemployment_rate%                 object\n",
       "County                             object\n",
       "State                              object\n",
       "Preliminary                          bool\n",
       "dtype: object"
      ]
     },
     "metadata": {},
     "execution_count": 18
    }
   ],
   "source": [
    "# check data types (date should be formated as a date, all that can be numbers should be)\n",
    "df.dtypes"
   ]
  },
  {
   "cell_type": "code",
   "execution_count": 35,
   "metadata": {},
   "outputs": [
    {
     "output_type": "execute_result",
     "data": {
      "text/plain": [
       "LAUS Code                          object\n",
       "FIPS_code_state                     int64\n",
       "FIPS_code_county                    int64\n",
       "County Name/State Abbreviation     object\n",
       "Period                             object\n",
       "Labor_force                       float64\n",
       "Employed                          float64\n",
       "Unemployed                        float64\n",
       "Unemployment_rate%                float64\n",
       "County                             object\n",
       "State                              object\n",
       "Preliminary                          bool\n",
       "Labor_force_NA                     object\n",
       "Employed_NA                        object\n",
       "Unemployed_NA                      object\n",
       "Unemployment_rate%_NA              object\n",
       "dtype: object"
      ]
     },
     "metadata": {},
     "execution_count": 35
    }
   ],
   "source": [
    "# update data types\n",
    "df.astype({'FIPS_code_state': 'int64',\n",
    "    'FIPS_code_county':'int64',\n",
    "    'Labor_force':'float64',\n",
    "    'Employed':'float64',\n",
    "    'Unemployed':'float64',\n",
    "    'Unemployment_rate%':'float64'\n",
    "    }).dtypes"
   ]
  },
  {
   "cell_type": "code",
   "execution_count": null,
   "metadata": {},
   "outputs": [],
   "source": [
    "# map numbers for a specific time range"
   ]
  }
 ],
 "metadata": {
  "kernelspec": {
   "display_name": "Python 3",
   "language": "python",
   "name": "python3"
  },
  "language_info": {
   "codemirror_mode": {
    "name": "ipython",
    "version": 3
   },
   "file_extension": ".py",
   "mimetype": "text/x-python",
   "name": "python",
   "nbconvert_exporter": "python",
   "pygments_lexer": "ipython3",
   "version": "3.8.3-final"
  }
 },
 "nbformat": 4,
 "nbformat_minor": 2
}