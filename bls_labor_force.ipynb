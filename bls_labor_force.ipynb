{
 "metadata": {
  "language_info": {
   "codemirror_mode": {
    "name": "ipython",
    "version": 3
   },
   "file_extension": ".py",
   "mimetype": "text/x-python",
   "name": "python",
   "nbconvert_exporter": "python",
   "pygments_lexer": "ipython3",
   "version": "3.8.3-final"
  },
  "orig_nbformat": 2,
  "kernelspec": {
   "name": "python3",
   "display_name": "Python 3.8.3 64-bit ('base': conda)",
   "metadata": {
    "interpreter": {
     "hash": "b3d065463af8e3c52545a9d586f241a2a947b5dd1e81241794a42d6e30975c25"
    }
   }
  }
 },
 "nbformat": 4,
 "nbformat_minor": 2,
 "cells": [
  {
   "cell_type": "code",
   "execution_count": 20,
   "metadata": {},
   "outputs": [],
   "source": [
    "import pandas as pd\n",
    "import numpy as np"
   ]
  },
  {
   "cell_type": "code",
   "execution_count": 21,
   "metadata": {},
   "outputs": [
    {
     "output_type": "execute_result",
     "data": {
      "text/plain": [
       "                                         LAUS Code  Code  Code.1  \\\n",
       "0                                              NaN   NaN     NaN   \n",
       "1                                  CN0100100000000   1.0     1.0   \n",
       "2                                  CN0100300000000   1.0     3.0   \n",
       "3                                  CN0100500000000   1.0     5.0   \n",
       "4                                  CN0100700000000   1.0     7.0   \n",
       "...                                            ...   ...     ...   \n",
       "45065                              CN7215100000000  72.0   151.0   \n",
       "45066                              CN7215300000000  72.0   153.0   \n",
       "45067                                          NaN   NaN     NaN   \n",
       "45068                             p = preliminary.   NaN     NaN   \n",
       "45069  Dash indicates that data are not available.   NaN     NaN   \n",
       "\n",
       "      County Name/State Abbreviation    Period  Force Employed Unemployed  \\\n",
       "0                                NaN       NaN    NaN      NaN        NaN   \n",
       "1                 Autauga County, AL    Sep-19  26010    25391        619   \n",
       "2                 Baldwin County, AL    Sep-19  96754    94510       2244   \n",
       "3                 Barbour County, AL    Sep-19   8656     8376        280   \n",
       "4                    Bibb County, AL    Sep-19   8655     8430        225   \n",
       "...                              ...       ...    ...      ...        ...   \n",
       "45065          Yabucoa Municipio, PR  Oct-20 p   7961     7168        793   \n",
       "45066            Yauco Municipio, PR  Oct-20 p   9250     8321        929   \n",
       "45067                            NaN       NaN    NaN      NaN        NaN   \n",
       "45068                            NaN       NaN    NaN      NaN        NaN   \n",
       "45069                            NaN       NaN    NaN      NaN        NaN   \n",
       "\n",
       "                      (%)  \n",
       "0                     NaN  \n",
       "1                     2.4  \n",
       "2                     2.3  \n",
       "3                     3.2  \n",
       "4                     2.6  \n",
       "...                   ...  \n",
       "45065                  10  \n",
       "45066                  10  \n",
       "45067                 NaN  \n",
       "45068  SOURCE:  BLS, LAUS  \n",
       "45069    December 3, 2020  \n",
       "\n",
       "[45070 rows x 9 columns]"
      ],
      "text/html": "<div>\n<style scoped>\n    .dataframe tbody tr th:only-of-type {\n        vertical-align: middle;\n    }\n\n    .dataframe tbody tr th {\n        vertical-align: top;\n    }\n\n    .dataframe thead th {\n        text-align: right;\n    }\n</style>\n<table border=\"1\" class=\"dataframe\">\n  <thead>\n    <tr style=\"text-align: right;\">\n      <th></th>\n      <th>LAUS Code</th>\n      <th>Code</th>\n      <th>Code.1</th>\n      <th>County Name/State Abbreviation</th>\n      <th>Period</th>\n      <th>Force</th>\n      <th>Employed</th>\n      <th>Unemployed</th>\n      <th>(%)</th>\n    </tr>\n  </thead>\n  <tbody>\n    <tr>\n      <th>0</th>\n      <td>NaN</td>\n      <td>NaN</td>\n      <td>NaN</td>\n      <td>NaN</td>\n      <td>NaN</td>\n      <td>NaN</td>\n      <td>NaN</td>\n      <td>NaN</td>\n      <td>NaN</td>\n    </tr>\n    <tr>\n      <th>1</th>\n      <td>CN0100100000000</td>\n      <td>1.0</td>\n      <td>1.0</td>\n      <td>Autauga County, AL</td>\n      <td>Sep-19</td>\n      <td>26010</td>\n      <td>25391</td>\n      <td>619</td>\n      <td>2.4</td>\n    </tr>\n    <tr>\n      <th>2</th>\n      <td>CN0100300000000</td>\n      <td>1.0</td>\n      <td>3.0</td>\n      <td>Baldwin County, AL</td>\n      <td>Sep-19</td>\n      <td>96754</td>\n      <td>94510</td>\n      <td>2244</td>\n      <td>2.3</td>\n    </tr>\n    <tr>\n      <th>3</th>\n      <td>CN0100500000000</td>\n      <td>1.0</td>\n      <td>5.0</td>\n      <td>Barbour County, AL</td>\n      <td>Sep-19</td>\n      <td>8656</td>\n      <td>8376</td>\n      <td>280</td>\n      <td>3.2</td>\n    </tr>\n    <tr>\n      <th>4</th>\n      <td>CN0100700000000</td>\n      <td>1.0</td>\n      <td>7.0</td>\n      <td>Bibb County, AL</td>\n      <td>Sep-19</td>\n      <td>8655</td>\n      <td>8430</td>\n      <td>225</td>\n      <td>2.6</td>\n    </tr>\n    <tr>\n      <th>...</th>\n      <td>...</td>\n      <td>...</td>\n      <td>...</td>\n      <td>...</td>\n      <td>...</td>\n      <td>...</td>\n      <td>...</td>\n      <td>...</td>\n      <td>...</td>\n    </tr>\n    <tr>\n      <th>45065</th>\n      <td>CN7215100000000</td>\n      <td>72.0</td>\n      <td>151.0</td>\n      <td>Yabucoa Municipio, PR</td>\n      <td>Oct-20 p</td>\n      <td>7961</td>\n      <td>7168</td>\n      <td>793</td>\n      <td>10</td>\n    </tr>\n    <tr>\n      <th>45066</th>\n      <td>CN7215300000000</td>\n      <td>72.0</td>\n      <td>153.0</td>\n      <td>Yauco Municipio, PR</td>\n      <td>Oct-20 p</td>\n      <td>9250</td>\n      <td>8321</td>\n      <td>929</td>\n      <td>10</td>\n    </tr>\n    <tr>\n      <th>45067</th>\n      <td>NaN</td>\n      <td>NaN</td>\n      <td>NaN</td>\n      <td>NaN</td>\n      <td>NaN</td>\n      <td>NaN</td>\n      <td>NaN</td>\n      <td>NaN</td>\n      <td>NaN</td>\n    </tr>\n    <tr>\n      <th>45068</th>\n      <td>p = preliminary.</td>\n      <td>NaN</td>\n      <td>NaN</td>\n      <td>NaN</td>\n      <td>NaN</td>\n      <td>NaN</td>\n      <td>NaN</td>\n      <td>NaN</td>\n      <td>SOURCE:  BLS, LAUS</td>\n    </tr>\n    <tr>\n      <th>45069</th>\n      <td>Dash indicates that data are not available.</td>\n      <td>NaN</td>\n      <td>NaN</td>\n      <td>NaN</td>\n      <td>NaN</td>\n      <td>NaN</td>\n      <td>NaN</td>\n      <td>NaN</td>\n      <td>December 3, 2020</td>\n    </tr>\n  </tbody>\n</table>\n<p>45070 rows × 9 columns</p>\n</div>"
     },
     "metadata": {},
     "execution_count": 21
    }
   ],
   "source": [
    "df = pd.read_excel('data_sources/laucntycur14.xlsx', header=4)\n",
    "df"
   ]
  },
  {
   "cell_type": "code",
   "execution_count": 22,
   "metadata": {},
   "outputs": [
    {
     "output_type": "execute_result",
     "data": {
      "text/plain": [
       "                                         LAUS Code  FIPSCodeState  \\\n",
       "0                                              NaN            NaN   \n",
       "1                                  CN0100100000000            1.0   \n",
       "2                                  CN0100300000000            1.0   \n",
       "3                                  CN0100500000000            1.0   \n",
       "4                                  CN0100700000000            1.0   \n",
       "...                                            ...            ...   \n",
       "45065                              CN7215100000000           72.0   \n",
       "45066                              CN7215300000000           72.0   \n",
       "45067                                          NaN            NaN   \n",
       "45068                             p = preliminary.            NaN   \n",
       "45069  Dash indicates that data are not available.            NaN   \n",
       "\n",
       "       FIPSCodeCounty County Name/State Abbreviation    Period LaborForce  \\\n",
       "0                 NaN                            NaN       NaN        NaN   \n",
       "1                 1.0             Autauga County, AL    Sep-19      26010   \n",
       "2                 3.0             Baldwin County, AL    Sep-19      96754   \n",
       "3                 5.0             Barbour County, AL    Sep-19       8656   \n",
       "4                 7.0                Bibb County, AL    Sep-19       8655   \n",
       "...               ...                            ...       ...        ...   \n",
       "45065           151.0          Yabucoa Municipio, PR  Oct-20 p       7961   \n",
       "45066           153.0            Yauco Municipio, PR  Oct-20 p       9250   \n",
       "45067             NaN                            NaN       NaN        NaN   \n",
       "45068             NaN                            NaN       NaN        NaN   \n",
       "45069             NaN                            NaN       NaN        NaN   \n",
       "\n",
       "      Employed Unemployed   UnemploymentRate%  \n",
       "0          NaN        NaN                 NaN  \n",
       "1        25391        619                 2.4  \n",
       "2        94510       2244                 2.3  \n",
       "3         8376        280                 3.2  \n",
       "4         8430        225                 2.6  \n",
       "...        ...        ...                 ...  \n",
       "45065     7168        793                  10  \n",
       "45066     8321        929                  10  \n",
       "45067      NaN        NaN                 NaN  \n",
       "45068      NaN        NaN  SOURCE:  BLS, LAUS  \n",
       "45069      NaN        NaN    December 3, 2020  \n",
       "\n",
       "[45070 rows x 9 columns]"
      ],
      "text/html": "<div>\n<style scoped>\n    .dataframe tbody tr th:only-of-type {\n        vertical-align: middle;\n    }\n\n    .dataframe tbody tr th {\n        vertical-align: top;\n    }\n\n    .dataframe thead th {\n        text-align: right;\n    }\n</style>\n<table border=\"1\" class=\"dataframe\">\n  <thead>\n    <tr style=\"text-align: right;\">\n      <th></th>\n      <th>LAUS Code</th>\n      <th>FIPSCodeState</th>\n      <th>FIPSCodeCounty</th>\n      <th>County Name/State Abbreviation</th>\n      <th>Period</th>\n      <th>LaborForce</th>\n      <th>Employed</th>\n      <th>Unemployed</th>\n      <th>UnemploymentRate%</th>\n    </tr>\n  </thead>\n  <tbody>\n    <tr>\n      <th>0</th>\n      <td>NaN</td>\n      <td>NaN</td>\n      <td>NaN</td>\n      <td>NaN</td>\n      <td>NaN</td>\n      <td>NaN</td>\n      <td>NaN</td>\n      <td>NaN</td>\n      <td>NaN</td>\n    </tr>\n    <tr>\n      <th>1</th>\n      <td>CN0100100000000</td>\n      <td>1.0</td>\n      <td>1.0</td>\n      <td>Autauga County, AL</td>\n      <td>Sep-19</td>\n      <td>26010</td>\n      <td>25391</td>\n      <td>619</td>\n      <td>2.4</td>\n    </tr>\n    <tr>\n      <th>2</th>\n      <td>CN0100300000000</td>\n      <td>1.0</td>\n      <td>3.0</td>\n      <td>Baldwin County, AL</td>\n      <td>Sep-19</td>\n      <td>96754</td>\n      <td>94510</td>\n      <td>2244</td>\n      <td>2.3</td>\n    </tr>\n    <tr>\n      <th>3</th>\n      <td>CN0100500000000</td>\n      <td>1.0</td>\n      <td>5.0</td>\n      <td>Barbour County, AL</td>\n      <td>Sep-19</td>\n      <td>8656</td>\n      <td>8376</td>\n      <td>280</td>\n      <td>3.2</td>\n    </tr>\n    <tr>\n      <th>4</th>\n      <td>CN0100700000000</td>\n      <td>1.0</td>\n      <td>7.0</td>\n      <td>Bibb County, AL</td>\n      <td>Sep-19</td>\n      <td>8655</td>\n      <td>8430</td>\n      <td>225</td>\n      <td>2.6</td>\n    </tr>\n    <tr>\n      <th>...</th>\n      <td>...</td>\n      <td>...</td>\n      <td>...</td>\n      <td>...</td>\n      <td>...</td>\n      <td>...</td>\n      <td>...</td>\n      <td>...</td>\n      <td>...</td>\n    </tr>\n    <tr>\n      <th>45065</th>\n      <td>CN7215100000000</td>\n      <td>72.0</td>\n      <td>151.0</td>\n      <td>Yabucoa Municipio, PR</td>\n      <td>Oct-20 p</td>\n      <td>7961</td>\n      <td>7168</td>\n      <td>793</td>\n      <td>10</td>\n    </tr>\n    <tr>\n      <th>45066</th>\n      <td>CN7215300000000</td>\n      <td>72.0</td>\n      <td>153.0</td>\n      <td>Yauco Municipio, PR</td>\n      <td>Oct-20 p</td>\n      <td>9250</td>\n      <td>8321</td>\n      <td>929</td>\n      <td>10</td>\n    </tr>\n    <tr>\n      <th>45067</th>\n      <td>NaN</td>\n      <td>NaN</td>\n      <td>NaN</td>\n      <td>NaN</td>\n      <td>NaN</td>\n      <td>NaN</td>\n      <td>NaN</td>\n      <td>NaN</td>\n      <td>NaN</td>\n    </tr>\n    <tr>\n      <th>45068</th>\n      <td>p = preliminary.</td>\n      <td>NaN</td>\n      <td>NaN</td>\n      <td>NaN</td>\n      <td>NaN</td>\n      <td>NaN</td>\n      <td>NaN</td>\n      <td>NaN</td>\n      <td>SOURCE:  BLS, LAUS</td>\n    </tr>\n    <tr>\n      <th>45069</th>\n      <td>Dash indicates that data are not available.</td>\n      <td>NaN</td>\n      <td>NaN</td>\n      <td>NaN</td>\n      <td>NaN</td>\n      <td>NaN</td>\n      <td>NaN</td>\n      <td>NaN</td>\n      <td>December 3, 2020</td>\n    </tr>\n  </tbody>\n</table>\n<p>45070 rows × 9 columns</p>\n</div>"
     },
     "metadata": {},
     "execution_count": 22
    }
   ],
   "source": [
    "# rename columns to capture multirow columns\n",
    "df = df.rename({'Code': 'FIPSCodeState','Code.1': 'FIPSCodeCounty', 'Force': 'LaborForce','(%)': 'UnemploymentRate%'}, axis=1)\n",
    "df"
   ]
  },
  {
   "cell_type": "code",
   "execution_count": 23,
   "metadata": {},
   "outputs": [
    {
     "output_type": "execute_result",
     "data": {
      "text/plain": [
       "                                         LAUS Code  FIPSCodeState  \\\n",
       "0                                              NaN            NaN   \n",
       "1                                  CN0100100000000            1.0   \n",
       "2                                  CN0100300000000            1.0   \n",
       "3                                  CN0100500000000            1.0   \n",
       "4                                  CN0100700000000            1.0   \n",
       "...                                            ...            ...   \n",
       "45065                              CN7215100000000           72.0   \n",
       "45066                              CN7215300000000           72.0   \n",
       "45067                                          NaN            NaN   \n",
       "45068                             p = preliminary.            NaN   \n",
       "45069  Dash indicates that data are not available.            NaN   \n",
       "\n",
       "       FIPSCodeCounty County Name/State Abbreviation    Period LaborForce  \\\n",
       "0                 NaN                            NaN       NaN        NaN   \n",
       "1                 1.0             Autauga County, AL    Sep-19      26010   \n",
       "2                 3.0             Baldwin County, AL    Sep-19      96754   \n",
       "3                 5.0             Barbour County, AL    Sep-19       8656   \n",
       "4                 7.0                Bibb County, AL    Sep-19       8655   \n",
       "...               ...                            ...       ...        ...   \n",
       "45065           151.0          Yabucoa Municipio, PR  Oct-20 p       7961   \n",
       "45066           153.0            Yauco Municipio, PR  Oct-20 p       9250   \n",
       "45067             NaN                            NaN       NaN        NaN   \n",
       "45068             NaN                            NaN       NaN        NaN   \n",
       "45069             NaN                            NaN       NaN        NaN   \n",
       "\n",
       "      Employed Unemployed   UnemploymentRate%             County State  \n",
       "0          NaN        NaN                 NaN                NaN   NaN  \n",
       "1        25391        619                 2.4     Autauga County    AL  \n",
       "2        94510       2244                 2.3     Baldwin County    AL  \n",
       "3         8376        280                 3.2     Barbour County    AL  \n",
       "4         8430        225                 2.6        Bibb County    AL  \n",
       "...        ...        ...                 ...                ...   ...  \n",
       "45065     7168        793                  10  Yabucoa Municipio    PR  \n",
       "45066     8321        929                  10    Yauco Municipio    PR  \n",
       "45067      NaN        NaN                 NaN                NaN   NaN  \n",
       "45068      NaN        NaN  SOURCE:  BLS, LAUS                NaN   NaN  \n",
       "45069      NaN        NaN    December 3, 2020                NaN   NaN  \n",
       "\n",
       "[45070 rows x 11 columns]"
      ],
      "text/html": "<div>\n<style scoped>\n    .dataframe tbody tr th:only-of-type {\n        vertical-align: middle;\n    }\n\n    .dataframe tbody tr th {\n        vertical-align: top;\n    }\n\n    .dataframe thead th {\n        text-align: right;\n    }\n</style>\n<table border=\"1\" class=\"dataframe\">\n  <thead>\n    <tr style=\"text-align: right;\">\n      <th></th>\n      <th>LAUS Code</th>\n      <th>FIPSCodeState</th>\n      <th>FIPSCodeCounty</th>\n      <th>County Name/State Abbreviation</th>\n      <th>Period</th>\n      <th>LaborForce</th>\n      <th>Employed</th>\n      <th>Unemployed</th>\n      <th>UnemploymentRate%</th>\n      <th>County</th>\n      <th>State</th>\n    </tr>\n  </thead>\n  <tbody>\n    <tr>\n      <th>0</th>\n      <td>NaN</td>\n      <td>NaN</td>\n      <td>NaN</td>\n      <td>NaN</td>\n      <td>NaN</td>\n      <td>NaN</td>\n      <td>NaN</td>\n      <td>NaN</td>\n      <td>NaN</td>\n      <td>NaN</td>\n      <td>NaN</td>\n    </tr>\n    <tr>\n      <th>1</th>\n      <td>CN0100100000000</td>\n      <td>1.0</td>\n      <td>1.0</td>\n      <td>Autauga County, AL</td>\n      <td>Sep-19</td>\n      <td>26010</td>\n      <td>25391</td>\n      <td>619</td>\n      <td>2.4</td>\n      <td>Autauga County</td>\n      <td>AL</td>\n    </tr>\n    <tr>\n      <th>2</th>\n      <td>CN0100300000000</td>\n      <td>1.0</td>\n      <td>3.0</td>\n      <td>Baldwin County, AL</td>\n      <td>Sep-19</td>\n      <td>96754</td>\n      <td>94510</td>\n      <td>2244</td>\n      <td>2.3</td>\n      <td>Baldwin County</td>\n      <td>AL</td>\n    </tr>\n    <tr>\n      <th>3</th>\n      <td>CN0100500000000</td>\n      <td>1.0</td>\n      <td>5.0</td>\n      <td>Barbour County, AL</td>\n      <td>Sep-19</td>\n      <td>8656</td>\n      <td>8376</td>\n      <td>280</td>\n      <td>3.2</td>\n      <td>Barbour County</td>\n      <td>AL</td>\n    </tr>\n    <tr>\n      <th>4</th>\n      <td>CN0100700000000</td>\n      <td>1.0</td>\n      <td>7.0</td>\n      <td>Bibb County, AL</td>\n      <td>Sep-19</td>\n      <td>8655</td>\n      <td>8430</td>\n      <td>225</td>\n      <td>2.6</td>\n      <td>Bibb County</td>\n      <td>AL</td>\n    </tr>\n    <tr>\n      <th>...</th>\n      <td>...</td>\n      <td>...</td>\n      <td>...</td>\n      <td>...</td>\n      <td>...</td>\n      <td>...</td>\n      <td>...</td>\n      <td>...</td>\n      <td>...</td>\n      <td>...</td>\n      <td>...</td>\n    </tr>\n    <tr>\n      <th>45065</th>\n      <td>CN7215100000000</td>\n      <td>72.0</td>\n      <td>151.0</td>\n      <td>Yabucoa Municipio, PR</td>\n      <td>Oct-20 p</td>\n      <td>7961</td>\n      <td>7168</td>\n      <td>793</td>\n      <td>10</td>\n      <td>Yabucoa Municipio</td>\n      <td>PR</td>\n    </tr>\n    <tr>\n      <th>45066</th>\n      <td>CN7215300000000</td>\n      <td>72.0</td>\n      <td>153.0</td>\n      <td>Yauco Municipio, PR</td>\n      <td>Oct-20 p</td>\n      <td>9250</td>\n      <td>8321</td>\n      <td>929</td>\n      <td>10</td>\n      <td>Yauco Municipio</td>\n      <td>PR</td>\n    </tr>\n    <tr>\n      <th>45067</th>\n      <td>NaN</td>\n      <td>NaN</td>\n      <td>NaN</td>\n      <td>NaN</td>\n      <td>NaN</td>\n      <td>NaN</td>\n      <td>NaN</td>\n      <td>NaN</td>\n      <td>NaN</td>\n      <td>NaN</td>\n      <td>NaN</td>\n    </tr>\n    <tr>\n      <th>45068</th>\n      <td>p = preliminary.</td>\n      <td>NaN</td>\n      <td>NaN</td>\n      <td>NaN</td>\n      <td>NaN</td>\n      <td>NaN</td>\n      <td>NaN</td>\n      <td>NaN</td>\n      <td>SOURCE:  BLS, LAUS</td>\n      <td>NaN</td>\n      <td>NaN</td>\n    </tr>\n    <tr>\n      <th>45069</th>\n      <td>Dash indicates that data are not available.</td>\n      <td>NaN</td>\n      <td>NaN</td>\n      <td>NaN</td>\n      <td>NaN</td>\n      <td>NaN</td>\n      <td>NaN</td>\n      <td>NaN</td>\n      <td>December 3, 2020</td>\n      <td>NaN</td>\n      <td>NaN</td>\n    </tr>\n  </tbody>\n</table>\n<p>45070 rows × 11 columns</p>\n</div>"
     },
     "metadata": {},
     "execution_count": 23
    }
   ],
   "source": [
    "# split county name and state name\n",
    "df[['County', 'State']] = df['County Name/State Abbreviation'].str.split(', ', expand=True)\n",
    "df"
   ]
  },
  {
   "cell_type": "code",
   "execution_count": 24,
   "metadata": {},
   "outputs": [],
   "source": [
    "# ensure states went through correctly (length should be 2)"
   ]
  },
  {
   "cell_type": "code",
   "execution_count": 25,
   "metadata": {},
   "outputs": [
    {
     "output_type": "execute_result",
     "data": {
      "text/plain": [
       "                                         LAUS Code  FIPSCodeState  \\\n",
       "0                                              NaN            NaN   \n",
       "1                                  CN0100100000000            1.0   \n",
       "2                                  CN0100300000000            1.0   \n",
       "3                                  CN0100500000000            1.0   \n",
       "4                                  CN0100700000000            1.0   \n",
       "...                                            ...            ...   \n",
       "45065                              CN7215100000000           72.0   \n",
       "45066                              CN7215300000000           72.0   \n",
       "45067                                          NaN            NaN   \n",
       "45068                             p = preliminary.            NaN   \n",
       "45069  Dash indicates that data are not available.            NaN   \n",
       "\n",
       "       FIPSCodeCounty County Name/State Abbreviation  Period LaborForce  \\\n",
       "0                 NaN                            NaN     NaN        NaN   \n",
       "1                 1.0             Autauga County, AL  Sep-19      26010   \n",
       "2                 3.0             Baldwin County, AL  Sep-19      96754   \n",
       "3                 5.0             Barbour County, AL  Sep-19       8656   \n",
       "4                 7.0                Bibb County, AL  Sep-19       8655   \n",
       "...               ...                            ...     ...        ...   \n",
       "45065           151.0          Yabucoa Municipio, PR  Oct-20       7961   \n",
       "45066           153.0            Yauco Municipio, PR  Oct-20       9250   \n",
       "45067             NaN                            NaN     NaN        NaN   \n",
       "45068             NaN                            NaN     NaN        NaN   \n",
       "45069             NaN                            NaN     NaN        NaN   \n",
       "\n",
       "      Employed Unemployed   UnemploymentRate%             County State  \\\n",
       "0          NaN        NaN                 NaN                NaN   NaN   \n",
       "1        25391        619                 2.4     Autauga County    AL   \n",
       "2        94510       2244                 2.3     Baldwin County    AL   \n",
       "3         8376        280                 3.2     Barbour County    AL   \n",
       "4         8430        225                 2.6        Bibb County    AL   \n",
       "...        ...        ...                 ...                ...   ...   \n",
       "45065     7168        793                  10  Yabucoa Municipio    PR   \n",
       "45066     8321        929                  10    Yauco Municipio    PR   \n",
       "45067      NaN        NaN                 NaN                NaN   NaN   \n",
       "45068      NaN        NaN  SOURCE:  BLS, LAUS                NaN   NaN   \n",
       "45069      NaN        NaN    December 3, 2020                NaN   NaN   \n",
       "\n",
       "       Preliminary  \n",
       "0             True  \n",
       "1            False  \n",
       "2            False  \n",
       "3            False  \n",
       "4            False  \n",
       "...            ...  \n",
       "45065         True  \n",
       "45066         True  \n",
       "45067         True  \n",
       "45068         True  \n",
       "45069         True  \n",
       "\n",
       "[45070 rows x 12 columns]"
      ],
      "text/html": "<div>\n<style scoped>\n    .dataframe tbody tr th:only-of-type {\n        vertical-align: middle;\n    }\n\n    .dataframe tbody tr th {\n        vertical-align: top;\n    }\n\n    .dataframe thead th {\n        text-align: right;\n    }\n</style>\n<table border=\"1\" class=\"dataframe\">\n  <thead>\n    <tr style=\"text-align: right;\">\n      <th></th>\n      <th>LAUS Code</th>\n      <th>FIPSCodeState</th>\n      <th>FIPSCodeCounty</th>\n      <th>County Name/State Abbreviation</th>\n      <th>Period</th>\n      <th>LaborForce</th>\n      <th>Employed</th>\n      <th>Unemployed</th>\n      <th>UnemploymentRate%</th>\n      <th>County</th>\n      <th>State</th>\n      <th>Preliminary</th>\n    </tr>\n  </thead>\n  <tbody>\n    <tr>\n      <th>0</th>\n      <td>NaN</td>\n      <td>NaN</td>\n      <td>NaN</td>\n      <td>NaN</td>\n      <td>NaN</td>\n      <td>NaN</td>\n      <td>NaN</td>\n      <td>NaN</td>\n      <td>NaN</td>\n      <td>NaN</td>\n      <td>NaN</td>\n      <td>True</td>\n    </tr>\n    <tr>\n      <th>1</th>\n      <td>CN0100100000000</td>\n      <td>1.0</td>\n      <td>1.0</td>\n      <td>Autauga County, AL</td>\n      <td>Sep-19</td>\n      <td>26010</td>\n      <td>25391</td>\n      <td>619</td>\n      <td>2.4</td>\n      <td>Autauga County</td>\n      <td>AL</td>\n      <td>False</td>\n    </tr>\n    <tr>\n      <th>2</th>\n      <td>CN0100300000000</td>\n      <td>1.0</td>\n      <td>3.0</td>\n      <td>Baldwin County, AL</td>\n      <td>Sep-19</td>\n      <td>96754</td>\n      <td>94510</td>\n      <td>2244</td>\n      <td>2.3</td>\n      <td>Baldwin County</td>\n      <td>AL</td>\n      <td>False</td>\n    </tr>\n    <tr>\n      <th>3</th>\n      <td>CN0100500000000</td>\n      <td>1.0</td>\n      <td>5.0</td>\n      <td>Barbour County, AL</td>\n      <td>Sep-19</td>\n      <td>8656</td>\n      <td>8376</td>\n      <td>280</td>\n      <td>3.2</td>\n      <td>Barbour County</td>\n      <td>AL</td>\n      <td>False</td>\n    </tr>\n    <tr>\n      <th>4</th>\n      <td>CN0100700000000</td>\n      <td>1.0</td>\n      <td>7.0</td>\n      <td>Bibb County, AL</td>\n      <td>Sep-19</td>\n      <td>8655</td>\n      <td>8430</td>\n      <td>225</td>\n      <td>2.6</td>\n      <td>Bibb County</td>\n      <td>AL</td>\n      <td>False</td>\n    </tr>\n    <tr>\n      <th>...</th>\n      <td>...</td>\n      <td>...</td>\n      <td>...</td>\n      <td>...</td>\n      <td>...</td>\n      <td>...</td>\n      <td>...</td>\n      <td>...</td>\n      <td>...</td>\n      <td>...</td>\n      <td>...</td>\n      <td>...</td>\n    </tr>\n    <tr>\n      <th>45065</th>\n      <td>CN7215100000000</td>\n      <td>72.0</td>\n      <td>151.0</td>\n      <td>Yabucoa Municipio, PR</td>\n      <td>Oct-20</td>\n      <td>7961</td>\n      <td>7168</td>\n      <td>793</td>\n      <td>10</td>\n      <td>Yabucoa Municipio</td>\n      <td>PR</td>\n      <td>True</td>\n    </tr>\n    <tr>\n      <th>45066</th>\n      <td>CN7215300000000</td>\n      <td>72.0</td>\n      <td>153.0</td>\n      <td>Yauco Municipio, PR</td>\n      <td>Oct-20</td>\n      <td>9250</td>\n      <td>8321</td>\n      <td>929</td>\n      <td>10</td>\n      <td>Yauco Municipio</td>\n      <td>PR</td>\n      <td>True</td>\n    </tr>\n    <tr>\n      <th>45067</th>\n      <td>NaN</td>\n      <td>NaN</td>\n      <td>NaN</td>\n      <td>NaN</td>\n      <td>NaN</td>\n      <td>NaN</td>\n      <td>NaN</td>\n      <td>NaN</td>\n      <td>NaN</td>\n      <td>NaN</td>\n      <td>NaN</td>\n      <td>True</td>\n    </tr>\n    <tr>\n      <th>45068</th>\n      <td>p = preliminary.</td>\n      <td>NaN</td>\n      <td>NaN</td>\n      <td>NaN</td>\n      <td>NaN</td>\n      <td>NaN</td>\n      <td>NaN</td>\n      <td>NaN</td>\n      <td>SOURCE:  BLS, LAUS</td>\n      <td>NaN</td>\n      <td>NaN</td>\n      <td>True</td>\n    </tr>\n    <tr>\n      <th>45069</th>\n      <td>Dash indicates that data are not available.</td>\n      <td>NaN</td>\n      <td>NaN</td>\n      <td>NaN</td>\n      <td>NaN</td>\n      <td>NaN</td>\n      <td>NaN</td>\n      <td>NaN</td>\n      <td>December 3, 2020</td>\n      <td>NaN</td>\n      <td>NaN</td>\n      <td>True</td>\n    </tr>\n  </tbody>\n</table>\n<p>45070 rows × 12 columns</p>\n</div>"
     },
     "metadata": {},
     "execution_count": 25
    }
   ],
   "source": [
    "# add column for 'preliminary'\n",
    "df['Preliminary'] = pd.np.where(df['Period'].str.contains(' p'),True,False)\n",
    "\n",
    "# remove p's\n",
    "df['Period'] = df['Period'].str.replace(' p','')\n",
    "df\n",
    "# remove nan"
   ]
  },
  {
   "cell_type": "code",
   "execution_count": 15,
   "metadata": {},
   "outputs": [],
   "source": [
    "# check data types (date should be formated as a date, all that can be numbers should be)"
   ]
  },
  {
   "cell_type": "code",
   "execution_count": null,
   "metadata": {},
   "outputs": [],
   "source": [
    "# map numbers for a specific time range"
   ]
  }
 ]
}