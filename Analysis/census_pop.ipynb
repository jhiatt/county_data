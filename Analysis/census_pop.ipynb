{
 "metadata": {
  "language_info": {
   "codemirror_mode": {
    "name": "ipython",
    "version": 3
   },
   "file_extension": ".py",
   "mimetype": "text/x-python",
   "name": "python",
   "nbconvert_exporter": "python",
   "pygments_lexer": "ipython3",
   "version": "3.8.3-final"
  },
  "orig_nbformat": 2,
  "kernelspec": {
   "name": "python3",
   "display_name": "Python 3",
   "language": "python"
  }
 },
 "nbformat": 4,
 "nbformat_minor": 2,
 "cells": [
  {
   "cell_type": "code",
   "execution_count": 24,
   "metadata": {},
   "outputs": [],
   "source": [
    "# this population dataset will be pretty simple, just population per county per period\n",
    "import pandas as pd\n",
    "\n",
    "# for display within the table\n",
    "pd.options.display.max_rows = 50"
   ]
  },
  {
   "cell_type": "code",
   "execution_count": 25,
   "metadata": {},
   "outputs": [
    {
     "output_type": "execute_result",
     "data": {
      "text/plain": [
       "      SUMLEV  REGION  DIVISION STATE COUNTY   STNAME            CTYNAME  \\\n",
       "0         40       3         6    01    000  Alabama            Alabama   \n",
       "1         50       3         6    01    001  Alabama     Autauga County   \n",
       "2         50       3         6    01    003  Alabama     Baldwin County   \n",
       "3         50       3         6    01    005  Alabama     Barbour County   \n",
       "4         50       3         6    01    007  Alabama        Bibb County   \n",
       "...      ...     ...       ...   ...    ...      ...                ...   \n",
       "3188      50       4         8    56    037  Wyoming  Sweetwater County   \n",
       "3189      50       4         8    56    039  Wyoming       Teton County   \n",
       "3190      50       4         8    56    041  Wyoming       Uinta County   \n",
       "3191      50       4         8    56    043  Wyoming    Washakie County   \n",
       "3192      50       4         8    56    045  Wyoming      Weston County   \n",
       "\n",
       "      CENSUS2010POP  ESTIMATESBASE2010  POPESTIMATE2010  ...  \\\n",
       "0           4779736            4780125          4785437  ...   \n",
       "1             54571              54597            54773  ...   \n",
       "2            182265             182265           183112  ...   \n",
       "3             27457              27455            27327  ...   \n",
       "4             22915              22915            22870  ...   \n",
       "...             ...                ...              ...  ...   \n",
       "3188          43806              43806            43574  ...   \n",
       "3189          21294              21298            21296  ...   \n",
       "3190          21118              21121            21089  ...   \n",
       "3191           8533               8528             8530  ...   \n",
       "3192           7208               7208             7198  ...   \n",
       "\n",
       "      RDOMESTICMIG2019  RNETMIG2011  RNETMIG2012  RNETMIG2013  RNETMIG2014  \\\n",
       "0             1.917501     0.578434     1.186314     1.522549     0.563489   \n",
       "1             4.847310     6.018182    -6.226119    -3.902226     1.970443   \n",
       "2            24.017829    16.641870    17.488579    22.751474    20.184334   \n",
       "3            -5.690302     0.292676    -6.897817    -8.132185    -5.140431   \n",
       "4             1.385134    -4.998356    -3.787545    -5.797999     1.331144   \n",
       "...                ...          ...          ...          ...          ...   \n",
       "3188        -17.605427     0.502513    15.035735    -4.614071   -13.140225   \n",
       "3189         -1.583464    -2.575509     1.905293    23.259519    12.508872   \n",
       "3190         -9.181105   -18.196975    -4.487730   -10.870861   -15.033634   \n",
       "3191         -7.652085   -12.839390    -3.084589    -1.307811   -18.938032   \n",
       "3192          0.000000    -9.065551   -10.549265     6.191515     0.420345   \n",
       "\n",
       "      RNETMIG2015  RNETMIG2016  RNETMIG2017  RNETMIG2018  RNETMIG2019  \n",
       "0        0.626357     0.745172     1.090366     1.773786     2.483744  \n",
       "1       -1.712875     4.777171     0.849656     0.540916     4.560062  \n",
       "2       17.725964    21.279291    22.398256    24.727215    24.380567  \n",
       "3      -15.724575   -18.238016   -24.998528    -8.754922    -5.165664  \n",
       "4        1.329817    -0.708717    -3.234669    -6.857092     1.831952  \n",
       "...           ...          ...          ...          ...          ...  \n",
       "3188   -13.762031   -18.484164   -23.515727   -18.743773   -17.065527  \n",
       "3189     4.670450     1.253214    -0.171608   -12.432212     1.797445  \n",
       "3190   -10.484550   -11.485101   -18.923455   -13.554993    -9.181105  \n",
       "3191     0.000000   -15.204038   -15.950541   -17.246806    -8.289759  \n",
       "3192     9.201171     0.693097   -36.227798    -6.910452     2.599090  \n",
       "\n",
       "[3193 rows x 164 columns]"
      ],
      "text/html": "<div>\n<style scoped>\n    .dataframe tbody tr th:only-of-type {\n        vertical-align: middle;\n    }\n\n    .dataframe tbody tr th {\n        vertical-align: top;\n    }\n\n    .dataframe thead th {\n        text-align: right;\n    }\n</style>\n<table border=\"1\" class=\"dataframe\">\n  <thead>\n    <tr style=\"text-align: right;\">\n      <th></th>\n      <th>SUMLEV</th>\n      <th>REGION</th>\n      <th>DIVISION</th>\n      <th>STATE</th>\n      <th>COUNTY</th>\n      <th>STNAME</th>\n      <th>CTYNAME</th>\n      <th>CENSUS2010POP</th>\n      <th>ESTIMATESBASE2010</th>\n      <th>POPESTIMATE2010</th>\n      <th>...</th>\n      <th>RDOMESTICMIG2019</th>\n      <th>RNETMIG2011</th>\n      <th>RNETMIG2012</th>\n      <th>RNETMIG2013</th>\n      <th>RNETMIG2014</th>\n      <th>RNETMIG2015</th>\n      <th>RNETMIG2016</th>\n      <th>RNETMIG2017</th>\n      <th>RNETMIG2018</th>\n      <th>RNETMIG2019</th>\n    </tr>\n  </thead>\n  <tbody>\n    <tr>\n      <th>0</th>\n      <td>40</td>\n      <td>3</td>\n      <td>6</td>\n      <td>01</td>\n      <td>000</td>\n      <td>Alabama</td>\n      <td>Alabama</td>\n      <td>4779736</td>\n      <td>4780125</td>\n      <td>4785437</td>\n      <td>...</td>\n      <td>1.917501</td>\n      <td>0.578434</td>\n      <td>1.186314</td>\n      <td>1.522549</td>\n      <td>0.563489</td>\n      <td>0.626357</td>\n      <td>0.745172</td>\n      <td>1.090366</td>\n      <td>1.773786</td>\n      <td>2.483744</td>\n    </tr>\n    <tr>\n      <th>1</th>\n      <td>50</td>\n      <td>3</td>\n      <td>6</td>\n      <td>01</td>\n      <td>001</td>\n      <td>Alabama</td>\n      <td>Autauga County</td>\n      <td>54571</td>\n      <td>54597</td>\n      <td>54773</td>\n      <td>...</td>\n      <td>4.847310</td>\n      <td>6.018182</td>\n      <td>-6.226119</td>\n      <td>-3.902226</td>\n      <td>1.970443</td>\n      <td>-1.712875</td>\n      <td>4.777171</td>\n      <td>0.849656</td>\n      <td>0.540916</td>\n      <td>4.560062</td>\n    </tr>\n    <tr>\n      <th>2</th>\n      <td>50</td>\n      <td>3</td>\n      <td>6</td>\n      <td>01</td>\n      <td>003</td>\n      <td>Alabama</td>\n      <td>Baldwin County</td>\n      <td>182265</td>\n      <td>182265</td>\n      <td>183112</td>\n      <td>...</td>\n      <td>24.017829</td>\n      <td>16.641870</td>\n      <td>17.488579</td>\n      <td>22.751474</td>\n      <td>20.184334</td>\n      <td>17.725964</td>\n      <td>21.279291</td>\n      <td>22.398256</td>\n      <td>24.727215</td>\n      <td>24.380567</td>\n    </tr>\n    <tr>\n      <th>3</th>\n      <td>50</td>\n      <td>3</td>\n      <td>6</td>\n      <td>01</td>\n      <td>005</td>\n      <td>Alabama</td>\n      <td>Barbour County</td>\n      <td>27457</td>\n      <td>27455</td>\n      <td>27327</td>\n      <td>...</td>\n      <td>-5.690302</td>\n      <td>0.292676</td>\n      <td>-6.897817</td>\n      <td>-8.132185</td>\n      <td>-5.140431</td>\n      <td>-15.724575</td>\n      <td>-18.238016</td>\n      <td>-24.998528</td>\n      <td>-8.754922</td>\n      <td>-5.165664</td>\n    </tr>\n    <tr>\n      <th>4</th>\n      <td>50</td>\n      <td>3</td>\n      <td>6</td>\n      <td>01</td>\n      <td>007</td>\n      <td>Alabama</td>\n      <td>Bibb County</td>\n      <td>22915</td>\n      <td>22915</td>\n      <td>22870</td>\n      <td>...</td>\n      <td>1.385134</td>\n      <td>-4.998356</td>\n      <td>-3.787545</td>\n      <td>-5.797999</td>\n      <td>1.331144</td>\n      <td>1.329817</td>\n      <td>-0.708717</td>\n      <td>-3.234669</td>\n      <td>-6.857092</td>\n      <td>1.831952</td>\n    </tr>\n    <tr>\n      <th>...</th>\n      <td>...</td>\n      <td>...</td>\n      <td>...</td>\n      <td>...</td>\n      <td>...</td>\n      <td>...</td>\n      <td>...</td>\n      <td>...</td>\n      <td>...</td>\n      <td>...</td>\n      <td>...</td>\n      <td>...</td>\n      <td>...</td>\n      <td>...</td>\n      <td>...</td>\n      <td>...</td>\n      <td>...</td>\n      <td>...</td>\n      <td>...</td>\n      <td>...</td>\n      <td>...</td>\n    </tr>\n    <tr>\n      <th>3188</th>\n      <td>50</td>\n      <td>4</td>\n      <td>8</td>\n      <td>56</td>\n      <td>037</td>\n      <td>Wyoming</td>\n      <td>Sweetwater County</td>\n      <td>43806</td>\n      <td>43806</td>\n      <td>43574</td>\n      <td>...</td>\n      <td>-17.605427</td>\n      <td>0.502513</td>\n      <td>15.035735</td>\n      <td>-4.614071</td>\n      <td>-13.140225</td>\n      <td>-13.762031</td>\n      <td>-18.484164</td>\n      <td>-23.515727</td>\n      <td>-18.743773</td>\n      <td>-17.065527</td>\n    </tr>\n    <tr>\n      <th>3189</th>\n      <td>50</td>\n      <td>4</td>\n      <td>8</td>\n      <td>56</td>\n      <td>039</td>\n      <td>Wyoming</td>\n      <td>Teton County</td>\n      <td>21294</td>\n      <td>21298</td>\n      <td>21296</td>\n      <td>...</td>\n      <td>-1.583464</td>\n      <td>-2.575509</td>\n      <td>1.905293</td>\n      <td>23.259519</td>\n      <td>12.508872</td>\n      <td>4.670450</td>\n      <td>1.253214</td>\n      <td>-0.171608</td>\n      <td>-12.432212</td>\n      <td>1.797445</td>\n    </tr>\n    <tr>\n      <th>3190</th>\n      <td>50</td>\n      <td>4</td>\n      <td>8</td>\n      <td>56</td>\n      <td>041</td>\n      <td>Wyoming</td>\n      <td>Uinta County</td>\n      <td>21118</td>\n      <td>21121</td>\n      <td>21089</td>\n      <td>...</td>\n      <td>-9.181105</td>\n      <td>-18.196975</td>\n      <td>-4.487730</td>\n      <td>-10.870861</td>\n      <td>-15.033634</td>\n      <td>-10.484550</td>\n      <td>-11.485101</td>\n      <td>-18.923455</td>\n      <td>-13.554993</td>\n      <td>-9.181105</td>\n    </tr>\n    <tr>\n      <th>3191</th>\n      <td>50</td>\n      <td>4</td>\n      <td>8</td>\n      <td>56</td>\n      <td>043</td>\n      <td>Wyoming</td>\n      <td>Washakie County</td>\n      <td>8533</td>\n      <td>8528</td>\n      <td>8530</td>\n      <td>...</td>\n      <td>-7.652085</td>\n      <td>-12.839390</td>\n      <td>-3.084589</td>\n      <td>-1.307811</td>\n      <td>-18.938032</td>\n      <td>0.000000</td>\n      <td>-15.204038</td>\n      <td>-15.950541</td>\n      <td>-17.246806</td>\n      <td>-8.289759</td>\n    </tr>\n    <tr>\n      <th>3192</th>\n      <td>50</td>\n      <td>4</td>\n      <td>8</td>\n      <td>56</td>\n      <td>045</td>\n      <td>Wyoming</td>\n      <td>Weston County</td>\n      <td>7208</td>\n      <td>7208</td>\n      <td>7198</td>\n      <td>...</td>\n      <td>0.000000</td>\n      <td>-9.065551</td>\n      <td>-10.549265</td>\n      <td>6.191515</td>\n      <td>0.420345</td>\n      <td>9.201171</td>\n      <td>0.693097</td>\n      <td>-36.227798</td>\n      <td>-6.910452</td>\n      <td>2.599090</td>\n    </tr>\n  </tbody>\n</table>\n<p>3193 rows × 164 columns</p>\n</div>"
     },
     "metadata": {},
     "execution_count": 25
    }
   ],
   "source": [
    "# pull in data set\n",
    "df = pd.read_csv('../data_sources/census_population_county.csv',converters={'STATE':str,'COUNTY':str}, encoding='latin-1')\n",
    "df"
   ]
  },
  {
   "cell_type": "code",
   "execution_count": 26,
   "metadata": {},
   "outputs": [
    {
     "output_type": "execute_result",
     "data": {
      "text/plain": [
       "SUMLEV           int64\n",
       "REGION           int64\n",
       "DIVISION         int64\n",
       "STATE           object\n",
       "COUNTY          object\n",
       "                ...   \n",
       "RNETMIG2015    float64\n",
       "RNETMIG2016    float64\n",
       "RNETMIG2017    float64\n",
       "RNETMIG2018    float64\n",
       "RNETMIG2019    float64\n",
       "Length: 164, dtype: object"
      ]
     },
     "metadata": {},
     "execution_count": 26
    }
   ],
   "source": [
    "df.dtypes"
   ]
  },
  {
   "cell_type": "code",
   "execution_count": 27,
   "metadata": {},
   "outputs": [
    {
     "output_type": "execute_result",
     "data": {
      "text/plain": [
       "Index(['SUMLEV', 'REGION', 'DIVISION', 'STATE', 'COUNTY', 'STNAME', 'CTYNAME',\n",
       "       'CENSUS2010POP', 'ESTIMATESBASE2010', 'POPESTIMATE2010',\n",
       "       ...\n",
       "       'RDOMESTICMIG2019', 'RNETMIG2011', 'RNETMIG2012', 'RNETMIG2013',\n",
       "       'RNETMIG2014', 'RNETMIG2015', 'RNETMIG2016', 'RNETMIG2017',\n",
       "       'RNETMIG2018', 'RNETMIG2019'],\n",
       "      dtype='object', length=164)"
      ]
     },
     "metadata": {},
     "execution_count": 27
    }
   ],
   "source": [
    "df.columns"
   ]
  },
  {
   "cell_type": "code",
   "execution_count": 28,
   "metadata": {},
   "outputs": [
    {
     "output_type": "execute_result",
     "data": {
      "text/plain": [
       "     STATE COUNTY   STNAME            CTYNAME  POPESTIMATE2010  \\\n",
       "0       01    000  Alabama            Alabama          4785437   \n",
       "1       01    001  Alabama     Autauga County            54773   \n",
       "2       01    003  Alabama     Baldwin County           183112   \n",
       "3       01    005  Alabama     Barbour County            27327   \n",
       "4       01    007  Alabama        Bibb County            22870   \n",
       "...    ...    ...      ...                ...              ...   \n",
       "3188    56    037  Wyoming  Sweetwater County            43574   \n",
       "3189    56    039  Wyoming       Teton County            21296   \n",
       "3190    56    041  Wyoming       Uinta County            21089   \n",
       "3191    56    043  Wyoming    Washakie County             8530   \n",
       "3192    56    045  Wyoming      Weston County             7198   \n",
       "\n",
       "      POPESTIMATE2011  POPESTIMATE2012  POPESTIMATE2013  POPESTIMATE2014  \\\n",
       "0             4799069          4815588          4830081          4841799   \n",
       "1               55227            54954            54727            54893   \n",
       "2              186558           190145           194885           199183   \n",
       "3               27341            27169            26937            26755   \n",
       "4               22745            22667            22521            22553   \n",
       "...               ...              ...              ...              ...   \n",
       "3188            43986            45002            45157            44948   \n",
       "3189            21414            21624            22315            22773   \n",
       "3190            20896            20996            20951            20822   \n",
       "3191             8449             8409             8413             8273   \n",
       "3192             7142             7077             7136             7138   \n",
       "\n",
       "      POPESTIMATE2015  POPESTIMATE2016  POPESTIMATE2017  POPESTIMATE2018  \\\n",
       "0             4852347          4863525          4874486          4887681   \n",
       "1               54864            55243            55390            55533   \n",
       "2              202939           207601           212521           217855   \n",
       "3               26283            25806            25157            24872   \n",
       "4               22566            22586            22550            22367   \n",
       "...               ...              ...              ...              ...   \n",
       "3188            44719            44222            43464            42858   \n",
       "3189            23047            23234            23384            23269   \n",
       "3190            20763            20682            20431            20292   \n",
       "3191             8278             8165             8010             7877   \n",
       "3192             7208             7220             6968             6924   \n",
       "\n",
       "      POPESTIMATE2019  \n",
       "0             4903185  \n",
       "1               55869  \n",
       "2              223234  \n",
       "3               24686  \n",
       "4               22394  \n",
       "...               ...  \n",
       "3188            42343  \n",
       "3189            23464  \n",
       "3190            20226  \n",
       "3191             7805  \n",
       "3192             6927  \n",
       "\n",
       "[3193 rows x 14 columns]"
      ],
      "text/html": "<div>\n<style scoped>\n    .dataframe tbody tr th:only-of-type {\n        vertical-align: middle;\n    }\n\n    .dataframe tbody tr th {\n        vertical-align: top;\n    }\n\n    .dataframe thead th {\n        text-align: right;\n    }\n</style>\n<table border=\"1\" class=\"dataframe\">\n  <thead>\n    <tr style=\"text-align: right;\">\n      <th></th>\n      <th>STATE</th>\n      <th>COUNTY</th>\n      <th>STNAME</th>\n      <th>CTYNAME</th>\n      <th>POPESTIMATE2010</th>\n      <th>POPESTIMATE2011</th>\n      <th>POPESTIMATE2012</th>\n      <th>POPESTIMATE2013</th>\n      <th>POPESTIMATE2014</th>\n      <th>POPESTIMATE2015</th>\n      <th>POPESTIMATE2016</th>\n      <th>POPESTIMATE2017</th>\n      <th>POPESTIMATE2018</th>\n      <th>POPESTIMATE2019</th>\n    </tr>\n  </thead>\n  <tbody>\n    <tr>\n      <th>0</th>\n      <td>01</td>\n      <td>000</td>\n      <td>Alabama</td>\n      <td>Alabama</td>\n      <td>4785437</td>\n      <td>4799069</td>\n      <td>4815588</td>\n      <td>4830081</td>\n      <td>4841799</td>\n      <td>4852347</td>\n      <td>4863525</td>\n      <td>4874486</td>\n      <td>4887681</td>\n      <td>4903185</td>\n    </tr>\n    <tr>\n      <th>1</th>\n      <td>01</td>\n      <td>001</td>\n      <td>Alabama</td>\n      <td>Autauga County</td>\n      <td>54773</td>\n      <td>55227</td>\n      <td>54954</td>\n      <td>54727</td>\n      <td>54893</td>\n      <td>54864</td>\n      <td>55243</td>\n      <td>55390</td>\n      <td>55533</td>\n      <td>55869</td>\n    </tr>\n    <tr>\n      <th>2</th>\n      <td>01</td>\n      <td>003</td>\n      <td>Alabama</td>\n      <td>Baldwin County</td>\n      <td>183112</td>\n      <td>186558</td>\n      <td>190145</td>\n      <td>194885</td>\n      <td>199183</td>\n      <td>202939</td>\n      <td>207601</td>\n      <td>212521</td>\n      <td>217855</td>\n      <td>223234</td>\n    </tr>\n    <tr>\n      <th>3</th>\n      <td>01</td>\n      <td>005</td>\n      <td>Alabama</td>\n      <td>Barbour County</td>\n      <td>27327</td>\n      <td>27341</td>\n      <td>27169</td>\n      <td>26937</td>\n      <td>26755</td>\n      <td>26283</td>\n      <td>25806</td>\n      <td>25157</td>\n      <td>24872</td>\n      <td>24686</td>\n    </tr>\n    <tr>\n      <th>4</th>\n      <td>01</td>\n      <td>007</td>\n      <td>Alabama</td>\n      <td>Bibb County</td>\n      <td>22870</td>\n      <td>22745</td>\n      <td>22667</td>\n      <td>22521</td>\n      <td>22553</td>\n      <td>22566</td>\n      <td>22586</td>\n      <td>22550</td>\n      <td>22367</td>\n      <td>22394</td>\n    </tr>\n    <tr>\n      <th>...</th>\n      <td>...</td>\n      <td>...</td>\n      <td>...</td>\n      <td>...</td>\n      <td>...</td>\n      <td>...</td>\n      <td>...</td>\n      <td>...</td>\n      <td>...</td>\n      <td>...</td>\n      <td>...</td>\n      <td>...</td>\n      <td>...</td>\n      <td>...</td>\n    </tr>\n    <tr>\n      <th>3188</th>\n      <td>56</td>\n      <td>037</td>\n      <td>Wyoming</td>\n      <td>Sweetwater County</td>\n      <td>43574</td>\n      <td>43986</td>\n      <td>45002</td>\n      <td>45157</td>\n      <td>44948</td>\n      <td>44719</td>\n      <td>44222</td>\n      <td>43464</td>\n      <td>42858</td>\n      <td>42343</td>\n    </tr>\n    <tr>\n      <th>3189</th>\n      <td>56</td>\n      <td>039</td>\n      <td>Wyoming</td>\n      <td>Teton County</td>\n      <td>21296</td>\n      <td>21414</td>\n      <td>21624</td>\n      <td>22315</td>\n      <td>22773</td>\n      <td>23047</td>\n      <td>23234</td>\n      <td>23384</td>\n      <td>23269</td>\n      <td>23464</td>\n    </tr>\n    <tr>\n      <th>3190</th>\n      <td>56</td>\n      <td>041</td>\n      <td>Wyoming</td>\n      <td>Uinta County</td>\n      <td>21089</td>\n      <td>20896</td>\n      <td>20996</td>\n      <td>20951</td>\n      <td>20822</td>\n      <td>20763</td>\n      <td>20682</td>\n      <td>20431</td>\n      <td>20292</td>\n      <td>20226</td>\n    </tr>\n    <tr>\n      <th>3191</th>\n      <td>56</td>\n      <td>043</td>\n      <td>Wyoming</td>\n      <td>Washakie County</td>\n      <td>8530</td>\n      <td>8449</td>\n      <td>8409</td>\n      <td>8413</td>\n      <td>8273</td>\n      <td>8278</td>\n      <td>8165</td>\n      <td>8010</td>\n      <td>7877</td>\n      <td>7805</td>\n    </tr>\n    <tr>\n      <th>3192</th>\n      <td>56</td>\n      <td>045</td>\n      <td>Wyoming</td>\n      <td>Weston County</td>\n      <td>7198</td>\n      <td>7142</td>\n      <td>7077</td>\n      <td>7136</td>\n      <td>7138</td>\n      <td>7208</td>\n      <td>7220</td>\n      <td>6968</td>\n      <td>6924</td>\n      <td>6927</td>\n    </tr>\n  </tbody>\n</table>\n<p>3193 rows × 14 columns</p>\n</div>"
     },
     "metadata": {},
     "execution_count": 28
    }
   ],
   "source": [
    "# keep only the population estimate data\n",
    "df2 = df[['STATE', 'COUNTY', 'STNAME', 'CTYNAME','POPESTIMATE2010','POPESTIMATE2011','POPESTIMATE2012','POPESTIMATE2013','POPESTIMATE2014','POPESTIMATE2015','POPESTIMATE2016','POPESTIMATE2017','POPESTIMATE2018','POPESTIMATE2019']]\n",
    "df2"
   ]
  },
  {
   "cell_type": "code",
   "execution_count": 32,
   "metadata": {},
   "outputs": [
    {
     "output_type": "execute_result",
     "data": {
      "text/plain": [
       "     STATE COUNTY   STNAME            CTYNAME  POPESTIMATE2010  \\\n",
       "0       01    000  Alabama            Alabama          4785437   \n",
       "1       01    001  Alabama     Autauga County            54773   \n",
       "2       01    003  Alabama     Baldwin County           183112   \n",
       "3       01    005  Alabama     Barbour County            27327   \n",
       "4       01    007  Alabama        Bibb County            22870   \n",
       "...    ...    ...      ...                ...              ...   \n",
       "3188    56    037  Wyoming  Sweetwater County            43574   \n",
       "3189    56    039  Wyoming       Teton County            21296   \n",
       "3190    56    041  Wyoming       Uinta County            21089   \n",
       "3191    56    043  Wyoming    Washakie County             8530   \n",
       "3192    56    045  Wyoming      Weston County             7198   \n",
       "\n",
       "      POPESTIMATE2011  POPESTIMATE2012  POPESTIMATE2013  POPESTIMATE2014  \\\n",
       "0             4799069          4815588          4830081          4841799   \n",
       "1               55227            54954            54727            54893   \n",
       "2              186558           190145           194885           199183   \n",
       "3               27341            27169            26937            26755   \n",
       "4               22745            22667            22521            22553   \n",
       "...               ...              ...              ...              ...   \n",
       "3188            43986            45002            45157            44948   \n",
       "3189            21414            21624            22315            22773   \n",
       "3190            20896            20996            20951            20822   \n",
       "3191             8449             8409             8413             8273   \n",
       "3192             7142             7077             7136             7138   \n",
       "\n",
       "      POPESTIMATE2015  POPESTIMATE2016  POPESTIMATE2017  POPESTIMATE2018  \\\n",
       "0             4852347          4863525          4874486          4887681   \n",
       "1               54864            55243            55390            55533   \n",
       "2              202939           207601           212521           217855   \n",
       "3               26283            25806            25157            24872   \n",
       "4               22566            22586            22550            22367   \n",
       "...               ...              ...              ...              ...   \n",
       "3188            44719            44222            43464            42858   \n",
       "3189            23047            23234            23384            23269   \n",
       "3190            20763            20682            20431            20292   \n",
       "3191             8278             8165             8010             7877   \n",
       "3192             7208             7220             6968             6924   \n",
       "\n",
       "      POPESTIMATE2019   fips  \n",
       "0             4903185  01000  \n",
       "1               55869  01001  \n",
       "2              223234  01003  \n",
       "3               24686  01005  \n",
       "4               22394  01007  \n",
       "...               ...    ...  \n",
       "3188            42343  56037  \n",
       "3189            23464  56039  \n",
       "3190            20226  56041  \n",
       "3191             7805  56043  \n",
       "3192             6927  56045  \n",
       "\n",
       "[3193 rows x 15 columns]"
      ],
      "text/html": "<div>\n<style scoped>\n    .dataframe tbody tr th:only-of-type {\n        vertical-align: middle;\n    }\n\n    .dataframe tbody tr th {\n        vertical-align: top;\n    }\n\n    .dataframe thead th {\n        text-align: right;\n    }\n</style>\n<table border=\"1\" class=\"dataframe\">\n  <thead>\n    <tr style=\"text-align: right;\">\n      <th></th>\n      <th>STATE</th>\n      <th>COUNTY</th>\n      <th>STNAME</th>\n      <th>CTYNAME</th>\n      <th>POPESTIMATE2010</th>\n      <th>POPESTIMATE2011</th>\n      <th>POPESTIMATE2012</th>\n      <th>POPESTIMATE2013</th>\n      <th>POPESTIMATE2014</th>\n      <th>POPESTIMATE2015</th>\n      <th>POPESTIMATE2016</th>\n      <th>POPESTIMATE2017</th>\n      <th>POPESTIMATE2018</th>\n      <th>POPESTIMATE2019</th>\n      <th>fips</th>\n    </tr>\n  </thead>\n  <tbody>\n    <tr>\n      <th>0</th>\n      <td>01</td>\n      <td>000</td>\n      <td>Alabama</td>\n      <td>Alabama</td>\n      <td>4785437</td>\n      <td>4799069</td>\n      <td>4815588</td>\n      <td>4830081</td>\n      <td>4841799</td>\n      <td>4852347</td>\n      <td>4863525</td>\n      <td>4874486</td>\n      <td>4887681</td>\n      <td>4903185</td>\n      <td>01000</td>\n    </tr>\n    <tr>\n      <th>1</th>\n      <td>01</td>\n      <td>001</td>\n      <td>Alabama</td>\n      <td>Autauga County</td>\n      <td>54773</td>\n      <td>55227</td>\n      <td>54954</td>\n      <td>54727</td>\n      <td>54893</td>\n      <td>54864</td>\n      <td>55243</td>\n      <td>55390</td>\n      <td>55533</td>\n      <td>55869</td>\n      <td>01001</td>\n    </tr>\n    <tr>\n      <th>2</th>\n      <td>01</td>\n      <td>003</td>\n      <td>Alabama</td>\n      <td>Baldwin County</td>\n      <td>183112</td>\n      <td>186558</td>\n      <td>190145</td>\n      <td>194885</td>\n      <td>199183</td>\n      <td>202939</td>\n      <td>207601</td>\n      <td>212521</td>\n      <td>217855</td>\n      <td>223234</td>\n      <td>01003</td>\n    </tr>\n    <tr>\n      <th>3</th>\n      <td>01</td>\n      <td>005</td>\n      <td>Alabama</td>\n      <td>Barbour County</td>\n      <td>27327</td>\n      <td>27341</td>\n      <td>27169</td>\n      <td>26937</td>\n      <td>26755</td>\n      <td>26283</td>\n      <td>25806</td>\n      <td>25157</td>\n      <td>24872</td>\n      <td>24686</td>\n      <td>01005</td>\n    </tr>\n    <tr>\n      <th>4</th>\n      <td>01</td>\n      <td>007</td>\n      <td>Alabama</td>\n      <td>Bibb County</td>\n      <td>22870</td>\n      <td>22745</td>\n      <td>22667</td>\n      <td>22521</td>\n      <td>22553</td>\n      <td>22566</td>\n      <td>22586</td>\n      <td>22550</td>\n      <td>22367</td>\n      <td>22394</td>\n      <td>01007</td>\n    </tr>\n    <tr>\n      <th>...</th>\n      <td>...</td>\n      <td>...</td>\n      <td>...</td>\n      <td>...</td>\n      <td>...</td>\n      <td>...</td>\n      <td>...</td>\n      <td>...</td>\n      <td>...</td>\n      <td>...</td>\n      <td>...</td>\n      <td>...</td>\n      <td>...</td>\n      <td>...</td>\n      <td>...</td>\n    </tr>\n    <tr>\n      <th>3188</th>\n      <td>56</td>\n      <td>037</td>\n      <td>Wyoming</td>\n      <td>Sweetwater County</td>\n      <td>43574</td>\n      <td>43986</td>\n      <td>45002</td>\n      <td>45157</td>\n      <td>44948</td>\n      <td>44719</td>\n      <td>44222</td>\n      <td>43464</td>\n      <td>42858</td>\n      <td>42343</td>\n      <td>56037</td>\n    </tr>\n    <tr>\n      <th>3189</th>\n      <td>56</td>\n      <td>039</td>\n      <td>Wyoming</td>\n      <td>Teton County</td>\n      <td>21296</td>\n      <td>21414</td>\n      <td>21624</td>\n      <td>22315</td>\n      <td>22773</td>\n      <td>23047</td>\n      <td>23234</td>\n      <td>23384</td>\n      <td>23269</td>\n      <td>23464</td>\n      <td>56039</td>\n    </tr>\n    <tr>\n      <th>3190</th>\n      <td>56</td>\n      <td>041</td>\n      <td>Wyoming</td>\n      <td>Uinta County</td>\n      <td>21089</td>\n      <td>20896</td>\n      <td>20996</td>\n      <td>20951</td>\n      <td>20822</td>\n      <td>20763</td>\n      <td>20682</td>\n      <td>20431</td>\n      <td>20292</td>\n      <td>20226</td>\n      <td>56041</td>\n    </tr>\n    <tr>\n      <th>3191</th>\n      <td>56</td>\n      <td>043</td>\n      <td>Wyoming</td>\n      <td>Washakie County</td>\n      <td>8530</td>\n      <td>8449</td>\n      <td>8409</td>\n      <td>8413</td>\n      <td>8273</td>\n      <td>8278</td>\n      <td>8165</td>\n      <td>8010</td>\n      <td>7877</td>\n      <td>7805</td>\n      <td>56043</td>\n    </tr>\n    <tr>\n      <th>3192</th>\n      <td>56</td>\n      <td>045</td>\n      <td>Wyoming</td>\n      <td>Weston County</td>\n      <td>7198</td>\n      <td>7142</td>\n      <td>7077</td>\n      <td>7136</td>\n      <td>7138</td>\n      <td>7208</td>\n      <td>7220</td>\n      <td>6968</td>\n      <td>6924</td>\n      <td>6927</td>\n      <td>56045</td>\n    </tr>\n  </tbody>\n</table>\n<p>3193 rows × 15 columns</p>\n</div>"
     },
     "metadata": {},
     "execution_count": 32
    }
   ],
   "source": [
    "# add fips column\n",
    "df2['fips'] = df2['STATE']+df2['COUNTY']\n",
    "df2"
   ]
  },
  {
   "cell_type": "code",
   "execution_count": 34,
   "metadata": {},
   "outputs": [],
   "source": [
    "# export final data to csv\n",
    "# we will need to clean more in js (we could decide to do more cleaning in python instead, but either way there will need to be some js config)\n",
    "df2.to_csv('../cleaned_data/pop_data.csv', index='false')"
   ]
  },
  {
   "cell_type": "code",
   "execution_count": null,
   "metadata": {},
   "outputs": [],
   "source": []
  }
 ]
}