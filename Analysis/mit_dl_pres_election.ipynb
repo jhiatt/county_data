{
 "metadata": {
  "language_info": {
   "codemirror_mode": {
    "name": "ipython",
    "version": 3
   },
   "file_extension": ".py",
   "mimetype": "text/x-python",
   "name": "python",
   "nbconvert_exporter": "python",
   "pygments_lexer": "ipython3",
   "version": "3.8.3-final"
  },
  "orig_nbformat": 2,
  "kernelspec": {
   "name": "python3",
   "display_name": "Python 3",
   "language": "python"
  }
 },
 "nbformat": 4,
 "nbformat_minor": 2,
 "cells": [
  {
   "cell_type": "code",
   "execution_count": 71,
   "metadata": {},
   "outputs": [],
   "source": [
    "import pandas as pd\n",
    "import numpy as np"
   ]
  },
  {
   "cell_type": "code",
   "execution_count": 72,
   "metadata": {},
   "outputs": [
    {
     "output_type": "execute_result",
     "data": {
      "text/plain": [
       "       year    state state_po       county  FIPS     office        candidate  \\\n",
       "0      2000  Alabama       AL      Autauga  1001  President          Al Gore   \n",
       "1      2000  Alabama       AL      Autauga  1001  President   George W. Bush   \n",
       "2      2000  Alabama       AL      Autauga  1001  President      Ralph Nader   \n",
       "3      2000  Alabama       AL      Autauga  1001  President            Other   \n",
       "4      2000  Alabama       AL      Baldwin  1003  President          Al Gore   \n",
       "...     ...      ...      ...          ...   ...        ...              ...   \n",
       "50519  2016   Alaska       AK  District 40  2040  President     Donald Trump   \n",
       "50520  2016   Alaska       AK  District 40  2040  President            Other   \n",
       "50521  2016   Alaska      NaN  District 99  2099  President  Hillary Clinton   \n",
       "50522  2016   Alaska      NaN  District 99  2099  President     Donald Trump   \n",
       "50523  2016   Alaska      NaN  District 99  2099  President            Other   \n",
       "\n",
       "            party  candidatevotes  totalvotes   version  \n",
       "0        democrat          4942.0       17208  20191203  \n",
       "1      republican         11993.0       17208  20191203  \n",
       "2           green           160.0       17208  20191203  \n",
       "3             NaN           113.0       17208  20191203  \n",
       "4        democrat         13997.0       56480  20191203  \n",
       "...           ...             ...         ...       ...  \n",
       "50519  republican          1377.0        4610  20191203  \n",
       "50520         NaN           895.0        4610  20191203  \n",
       "50521    democrat           274.0        5056  20191203  \n",
       "50522  republican            40.0        5056  20191203  \n",
       "50523         NaN            28.0        5056  20191203  \n",
       "\n",
       "[50524 rows x 11 columns]"
      ],
      "text/html": "<div>\n<style scoped>\n    .dataframe tbody tr th:only-of-type {\n        vertical-align: middle;\n    }\n\n    .dataframe tbody tr th {\n        vertical-align: top;\n    }\n\n    .dataframe thead th {\n        text-align: right;\n    }\n</style>\n<table border=\"1\" class=\"dataframe\">\n  <thead>\n    <tr style=\"text-align: right;\">\n      <th></th>\n      <th>year</th>\n      <th>state</th>\n      <th>state_po</th>\n      <th>county</th>\n      <th>FIPS</th>\n      <th>office</th>\n      <th>candidate</th>\n      <th>party</th>\n      <th>candidatevotes</th>\n      <th>totalvotes</th>\n      <th>version</th>\n    </tr>\n  </thead>\n  <tbody>\n    <tr>\n      <th>0</th>\n      <td>2000</td>\n      <td>Alabama</td>\n      <td>AL</td>\n      <td>Autauga</td>\n      <td>1001</td>\n      <td>President</td>\n      <td>Al Gore</td>\n      <td>democrat</td>\n      <td>4942.0</td>\n      <td>17208</td>\n      <td>20191203</td>\n    </tr>\n    <tr>\n      <th>1</th>\n      <td>2000</td>\n      <td>Alabama</td>\n      <td>AL</td>\n      <td>Autauga</td>\n      <td>1001</td>\n      <td>President</td>\n      <td>George W. Bush</td>\n      <td>republican</td>\n      <td>11993.0</td>\n      <td>17208</td>\n      <td>20191203</td>\n    </tr>\n    <tr>\n      <th>2</th>\n      <td>2000</td>\n      <td>Alabama</td>\n      <td>AL</td>\n      <td>Autauga</td>\n      <td>1001</td>\n      <td>President</td>\n      <td>Ralph Nader</td>\n      <td>green</td>\n      <td>160.0</td>\n      <td>17208</td>\n      <td>20191203</td>\n    </tr>\n    <tr>\n      <th>3</th>\n      <td>2000</td>\n      <td>Alabama</td>\n      <td>AL</td>\n      <td>Autauga</td>\n      <td>1001</td>\n      <td>President</td>\n      <td>Other</td>\n      <td>NaN</td>\n      <td>113.0</td>\n      <td>17208</td>\n      <td>20191203</td>\n    </tr>\n    <tr>\n      <th>4</th>\n      <td>2000</td>\n      <td>Alabama</td>\n      <td>AL</td>\n      <td>Baldwin</td>\n      <td>1003</td>\n      <td>President</td>\n      <td>Al Gore</td>\n      <td>democrat</td>\n      <td>13997.0</td>\n      <td>56480</td>\n      <td>20191203</td>\n    </tr>\n    <tr>\n      <th>...</th>\n      <td>...</td>\n      <td>...</td>\n      <td>...</td>\n      <td>...</td>\n      <td>...</td>\n      <td>...</td>\n      <td>...</td>\n      <td>...</td>\n      <td>...</td>\n      <td>...</td>\n      <td>...</td>\n    </tr>\n    <tr>\n      <th>50519</th>\n      <td>2016</td>\n      <td>Alaska</td>\n      <td>AK</td>\n      <td>District 40</td>\n      <td>2040</td>\n      <td>President</td>\n      <td>Donald Trump</td>\n      <td>republican</td>\n      <td>1377.0</td>\n      <td>4610</td>\n      <td>20191203</td>\n    </tr>\n    <tr>\n      <th>50520</th>\n      <td>2016</td>\n      <td>Alaska</td>\n      <td>AK</td>\n      <td>District 40</td>\n      <td>2040</td>\n      <td>President</td>\n      <td>Other</td>\n      <td>NaN</td>\n      <td>895.0</td>\n      <td>4610</td>\n      <td>20191203</td>\n    </tr>\n    <tr>\n      <th>50521</th>\n      <td>2016</td>\n      <td>Alaska</td>\n      <td>NaN</td>\n      <td>District 99</td>\n      <td>2099</td>\n      <td>President</td>\n      <td>Hillary Clinton</td>\n      <td>democrat</td>\n      <td>274.0</td>\n      <td>5056</td>\n      <td>20191203</td>\n    </tr>\n    <tr>\n      <th>50522</th>\n      <td>2016</td>\n      <td>Alaska</td>\n      <td>NaN</td>\n      <td>District 99</td>\n      <td>2099</td>\n      <td>President</td>\n      <td>Donald Trump</td>\n      <td>republican</td>\n      <td>40.0</td>\n      <td>5056</td>\n      <td>20191203</td>\n    </tr>\n    <tr>\n      <th>50523</th>\n      <td>2016</td>\n      <td>Alaska</td>\n      <td>NaN</td>\n      <td>District 99</td>\n      <td>2099</td>\n      <td>President</td>\n      <td>Other</td>\n      <td>NaN</td>\n      <td>28.0</td>\n      <td>5056</td>\n      <td>20191203</td>\n    </tr>\n  </tbody>\n</table>\n<p>50524 rows × 11 columns</p>\n</div>"
     },
     "metadata": {},
     "execution_count": 72
    }
   ],
   "source": [
    "# pull in data set\n",
    "df = pd.read_csv('../data_sources/countypres_2000-2016.csv', converters={'FIPS':str})\n",
    "df"
   ]
  },
  {
   "cell_type": "code",
   "execution_count": 73,
   "metadata": {},
   "outputs": [
    {
     "output_type": "execute_result",
     "data": {
      "text/plain": [
       "year                int64\n",
       "state              object\n",
       "state_po           object\n",
       "county             object\n",
       "FIPS               object\n",
       "office             object\n",
       "candidate          object\n",
       "party              object\n",
       "candidatevotes    float64\n",
       "totalvotes          int64\n",
       "version             int64\n",
       "dtype: object"
      ]
     },
     "metadata": {},
     "execution_count": 73
    }
   ],
   "source": [
    "df.dtypes"
   ]
  },
  {
   "cell_type": "code",
   "execution_count": 74,
   "metadata": {},
   "outputs": [
    {
     "output_type": "execute_result",
     "data": {
      "text/plain": [
       "array(['democrat', 'republican', 'green', nan], dtype=object)"
      ]
     },
     "metadata": {},
     "execution_count": 74
    }
   ],
   "source": [
    "# need to get to one row per county per period.  How many parties are listed in each period\n",
    "df.party.unique()\n",
    "# we can split this into 4 columns"
   ]
  },
  {
   "cell_type": "code",
   "execution_count": 75,
   "metadata": {},
   "outputs": [
    {
     "output_type": "execute_result",
     "data": {
      "text/plain": [
       "       year    state state_po       county  FIPS     office        candidate  \\\n",
       "0      2000  Alabama       AL      Autauga  1001  President          Al Gore   \n",
       "1      2000  Alabama       AL      Autauga  1001  President   George W. Bush   \n",
       "2      2000  Alabama       AL      Autauga  1001  President      Ralph Nader   \n",
       "3      2000  Alabama       AL      Autauga  1001  President            Other   \n",
       "4      2000  Alabama       AL      Baldwin  1003  President          Al Gore   \n",
       "...     ...      ...      ...          ...   ...        ...              ...   \n",
       "50519  2016   Alaska       AK  District 40  2040  President     Donald Trump   \n",
       "50520  2016   Alaska       AK  District 40  2040  President            Other   \n",
       "50521  2016   Alaska      NaN  District 99  2099  President  Hillary Clinton   \n",
       "50522  2016   Alaska      NaN  District 99  2099  President     Donald Trump   \n",
       "50523  2016   Alaska      NaN  District 99  2099  President            Other   \n",
       "\n",
       "            party  candidatevotes  totalvotes   version democrat_candidate  \\\n",
       "0        democrat          4942.0       17208  20191203            Al Gore   \n",
       "1      republican         11993.0       17208  20191203                NaN   \n",
       "2           green           160.0       17208  20191203                NaN   \n",
       "3             NaN           113.0       17208  20191203                NaN   \n",
       "4        democrat         13997.0       56480  20191203            Al Gore   \n",
       "...           ...             ...         ...       ...                ...   \n",
       "50519  republican          1377.0        4610  20191203                NaN   \n",
       "50520         NaN           895.0        4610  20191203                NaN   \n",
       "50521    democrat           274.0        5056  20191203    Hillary Clinton   \n",
       "50522  republican            40.0        5056  20191203                NaN   \n",
       "50523         NaN            28.0        5056  20191203                NaN   \n",
       "\n",
       "       democrat_votes republican_candidate  republican_votes green_candidate  \\\n",
       "0              4942.0                  NaN               NaN             NaN   \n",
       "1                 NaN       George W. Bush           11993.0             NaN   \n",
       "2                 NaN                  NaN               NaN     Ralph Nader   \n",
       "3                 NaN                  NaN               NaN             NaN   \n",
       "4             13997.0                  NaN               NaN             NaN   \n",
       "...               ...                  ...               ...             ...   \n",
       "50519             NaN         Donald Trump            1377.0             NaN   \n",
       "50520             NaN                  NaN               NaN             NaN   \n",
       "50521           274.0                  NaN               NaN             NaN   \n",
       "50522             NaN         Donald Trump              40.0             NaN   \n",
       "50523             NaN                  NaN               NaN             NaN   \n",
       "\n",
       "       green_votes other_candidate  other_votes  \n",
       "0              NaN             NaN          NaN  \n",
       "1              NaN             NaN          NaN  \n",
       "2            160.0             NaN          NaN  \n",
       "3              NaN           Other        113.0  \n",
       "4              NaN             NaN          NaN  \n",
       "...            ...             ...          ...  \n",
       "50519          NaN             NaN          NaN  \n",
       "50520          NaN           Other        895.0  \n",
       "50521          NaN             NaN          NaN  \n",
       "50522          NaN             NaN          NaN  \n",
       "50523          NaN           Other         28.0  \n",
       "\n",
       "[50524 rows x 19 columns]"
      ],
      "text/html": "<div>\n<style scoped>\n    .dataframe tbody tr th:only-of-type {\n        vertical-align: middle;\n    }\n\n    .dataframe tbody tr th {\n        vertical-align: top;\n    }\n\n    .dataframe thead th {\n        text-align: right;\n    }\n</style>\n<table border=\"1\" class=\"dataframe\">\n  <thead>\n    <tr style=\"text-align: right;\">\n      <th></th>\n      <th>year</th>\n      <th>state</th>\n      <th>state_po</th>\n      <th>county</th>\n      <th>FIPS</th>\n      <th>office</th>\n      <th>candidate</th>\n      <th>party</th>\n      <th>candidatevotes</th>\n      <th>totalvotes</th>\n      <th>version</th>\n      <th>democrat_candidate</th>\n      <th>democrat_votes</th>\n      <th>republican_candidate</th>\n      <th>republican_votes</th>\n      <th>green_candidate</th>\n      <th>green_votes</th>\n      <th>other_candidate</th>\n      <th>other_votes</th>\n    </tr>\n  </thead>\n  <tbody>\n    <tr>\n      <th>0</th>\n      <td>2000</td>\n      <td>Alabama</td>\n      <td>AL</td>\n      <td>Autauga</td>\n      <td>1001</td>\n      <td>President</td>\n      <td>Al Gore</td>\n      <td>democrat</td>\n      <td>4942.0</td>\n      <td>17208</td>\n      <td>20191203</td>\n      <td>Al Gore</td>\n      <td>4942.0</td>\n      <td>NaN</td>\n      <td>NaN</td>\n      <td>NaN</td>\n      <td>NaN</td>\n      <td>NaN</td>\n      <td>NaN</td>\n    </tr>\n    <tr>\n      <th>1</th>\n      <td>2000</td>\n      <td>Alabama</td>\n      <td>AL</td>\n      <td>Autauga</td>\n      <td>1001</td>\n      <td>President</td>\n      <td>George W. Bush</td>\n      <td>republican</td>\n      <td>11993.0</td>\n      <td>17208</td>\n      <td>20191203</td>\n      <td>NaN</td>\n      <td>NaN</td>\n      <td>George W. Bush</td>\n      <td>11993.0</td>\n      <td>NaN</td>\n      <td>NaN</td>\n      <td>NaN</td>\n      <td>NaN</td>\n    </tr>\n    <tr>\n      <th>2</th>\n      <td>2000</td>\n      <td>Alabama</td>\n      <td>AL</td>\n      <td>Autauga</td>\n      <td>1001</td>\n      <td>President</td>\n      <td>Ralph Nader</td>\n      <td>green</td>\n      <td>160.0</td>\n      <td>17208</td>\n      <td>20191203</td>\n      <td>NaN</td>\n      <td>NaN</td>\n      <td>NaN</td>\n      <td>NaN</td>\n      <td>Ralph Nader</td>\n      <td>160.0</td>\n      <td>NaN</td>\n      <td>NaN</td>\n    </tr>\n    <tr>\n      <th>3</th>\n      <td>2000</td>\n      <td>Alabama</td>\n      <td>AL</td>\n      <td>Autauga</td>\n      <td>1001</td>\n      <td>President</td>\n      <td>Other</td>\n      <td>NaN</td>\n      <td>113.0</td>\n      <td>17208</td>\n      <td>20191203</td>\n      <td>NaN</td>\n      <td>NaN</td>\n      <td>NaN</td>\n      <td>NaN</td>\n      <td>NaN</td>\n      <td>NaN</td>\n      <td>Other</td>\n      <td>113.0</td>\n    </tr>\n    <tr>\n      <th>4</th>\n      <td>2000</td>\n      <td>Alabama</td>\n      <td>AL</td>\n      <td>Baldwin</td>\n      <td>1003</td>\n      <td>President</td>\n      <td>Al Gore</td>\n      <td>democrat</td>\n      <td>13997.0</td>\n      <td>56480</td>\n      <td>20191203</td>\n      <td>Al Gore</td>\n      <td>13997.0</td>\n      <td>NaN</td>\n      <td>NaN</td>\n      <td>NaN</td>\n      <td>NaN</td>\n      <td>NaN</td>\n      <td>NaN</td>\n    </tr>\n    <tr>\n      <th>...</th>\n      <td>...</td>\n      <td>...</td>\n      <td>...</td>\n      <td>...</td>\n      <td>...</td>\n      <td>...</td>\n      <td>...</td>\n      <td>...</td>\n      <td>...</td>\n      <td>...</td>\n      <td>...</td>\n      <td>...</td>\n      <td>...</td>\n      <td>...</td>\n      <td>...</td>\n      <td>...</td>\n      <td>...</td>\n      <td>...</td>\n      <td>...</td>\n    </tr>\n    <tr>\n      <th>50519</th>\n      <td>2016</td>\n      <td>Alaska</td>\n      <td>AK</td>\n      <td>District 40</td>\n      <td>2040</td>\n      <td>President</td>\n      <td>Donald Trump</td>\n      <td>republican</td>\n      <td>1377.0</td>\n      <td>4610</td>\n      <td>20191203</td>\n      <td>NaN</td>\n      <td>NaN</td>\n      <td>Donald Trump</td>\n      <td>1377.0</td>\n      <td>NaN</td>\n      <td>NaN</td>\n      <td>NaN</td>\n      <td>NaN</td>\n    </tr>\n    <tr>\n      <th>50520</th>\n      <td>2016</td>\n      <td>Alaska</td>\n      <td>AK</td>\n      <td>District 40</td>\n      <td>2040</td>\n      <td>President</td>\n      <td>Other</td>\n      <td>NaN</td>\n      <td>895.0</td>\n      <td>4610</td>\n      <td>20191203</td>\n      <td>NaN</td>\n      <td>NaN</td>\n      <td>NaN</td>\n      <td>NaN</td>\n      <td>NaN</td>\n      <td>NaN</td>\n      <td>Other</td>\n      <td>895.0</td>\n    </tr>\n    <tr>\n      <th>50521</th>\n      <td>2016</td>\n      <td>Alaska</td>\n      <td>NaN</td>\n      <td>District 99</td>\n      <td>2099</td>\n      <td>President</td>\n      <td>Hillary Clinton</td>\n      <td>democrat</td>\n      <td>274.0</td>\n      <td>5056</td>\n      <td>20191203</td>\n      <td>Hillary Clinton</td>\n      <td>274.0</td>\n      <td>NaN</td>\n      <td>NaN</td>\n      <td>NaN</td>\n      <td>NaN</td>\n      <td>NaN</td>\n      <td>NaN</td>\n    </tr>\n    <tr>\n      <th>50522</th>\n      <td>2016</td>\n      <td>Alaska</td>\n      <td>NaN</td>\n      <td>District 99</td>\n      <td>2099</td>\n      <td>President</td>\n      <td>Donald Trump</td>\n      <td>republican</td>\n      <td>40.0</td>\n      <td>5056</td>\n      <td>20191203</td>\n      <td>NaN</td>\n      <td>NaN</td>\n      <td>Donald Trump</td>\n      <td>40.0</td>\n      <td>NaN</td>\n      <td>NaN</td>\n      <td>NaN</td>\n      <td>NaN</td>\n    </tr>\n    <tr>\n      <th>50523</th>\n      <td>2016</td>\n      <td>Alaska</td>\n      <td>NaN</td>\n      <td>District 99</td>\n      <td>2099</td>\n      <td>President</td>\n      <td>Other</td>\n      <td>NaN</td>\n      <td>28.0</td>\n      <td>5056</td>\n      <td>20191203</td>\n      <td>NaN</td>\n      <td>NaN</td>\n      <td>NaN</td>\n      <td>NaN</td>\n      <td>NaN</td>\n      <td>NaN</td>\n      <td>Other</td>\n      <td>28.0</td>\n    </tr>\n  </tbody>\n</table>\n<p>50524 rows × 19 columns</p>\n</div>"
     },
     "metadata": {},
     "execution_count": 75
    }
   ],
   "source": [
    "# split party into multiple columns, two per party (candidate and votes)\n",
    "\n",
    "# democrat\n",
    "df.loc[df['party']=='democrat','democrat_candidate']=df['candidate']\n",
    "df.loc[df['party']=='democrat','democrat_votes']=df['candidatevotes']\n",
    "\n",
    "# republican\n",
    "df.loc[df['party']=='republican','republican_candidate']=df['candidate']\n",
    "df.loc[df['party']=='republican','republican_votes']=df['candidatevotes']\n",
    "\n",
    "# green\n",
    "df.loc[df['party']=='green','green_candidate']=df['candidate']\n",
    "df.loc[df['party']=='green','green_votes']=df['candidatevotes']\n",
    "\n",
    "# other\n",
    "df.loc[df['party'].isnull(),'other_candidate']=df['candidate']\n",
    "df.loc[df['party'].isnull(),'other_votes']=df['candidatevotes']\n",
    "\n",
    "df"
   ]
  },
  {
   "cell_type": "code",
   "execution_count": 76,
   "metadata": {},
   "outputs": [
    {
     "output_type": "execute_result",
     "data": {
      "text/plain": [
       "       year   FIPS        state state_po             county     office  \\\n",
       "0      2000  10001     Delaware       DE               Kent  President   \n",
       "1      2000  10003     Delaware       DE         New Castle  President   \n",
       "2      2000  10005     Delaware       DE             Sussex  President   \n",
       "3      2000   1001      Alabama       AL            Autauga  President   \n",
       "4      2000   1003      Alabama       AL            Baldwin  President   \n",
       "...     ...    ...          ...      ...                ...        ...   \n",
       "15774  2016   9009  Connecticut       CT          New Haven  President   \n",
       "15775  2016   9011  Connecticut       CT         New London  President   \n",
       "15776  2016   9013  Connecticut       CT            Tolland  President   \n",
       "15777  2016   9015  Connecticut       CT            Windham  President   \n",
       "15778  2016     NA  Connecticut      NaN  Statewide writein  President   \n",
       "\n",
       "             candidate     party  candidatevotes  totalvotes   version  \\\n",
       "0              Al Gore  democrat         22790.0       48247  20191203   \n",
       "1              Al Gore  democrat        127539.0      212995  20191203   \n",
       "2              Al Gore  democrat         29739.0       66287  20191203   \n",
       "3              Al Gore  democrat          4942.0       17208  20191203   \n",
       "4              Al Gore  democrat         13997.0       56480  20191203   \n",
       "...                ...       ...             ...         ...       ...   \n",
       "15774  Hillary Clinton  democrat        205609.0      379006  20191203   \n",
       "15775  Hillary Clinton  democrat         62278.0      123528  20191203   \n",
       "15776  Hillary Clinton  democrat         38506.0       77424  20191203   \n",
       "15777  Hillary Clinton  democrat         21792.0       50823  20191203   \n",
       "15778  Hillary Clinton  democrat          3017.0        5056  20191203   \n",
       "\n",
       "      democrat_candidate  democrat_votes republican_candidate  \\\n",
       "0                Al Gore         22790.0       George W. Bush   \n",
       "1                Al Gore        127539.0       George W. Bush   \n",
       "2                Al Gore         29739.0       George W. Bush   \n",
       "3                Al Gore          4942.0       George W. Bush   \n",
       "4                Al Gore         13997.0       George W. Bush   \n",
       "...                  ...             ...                  ...   \n",
       "15774    Hillary Clinton        205609.0         Donald Trump   \n",
       "15775    Hillary Clinton         62278.0         Donald Trump   \n",
       "15776    Hillary Clinton         38506.0         Donald Trump   \n",
       "15777    Hillary Clinton         21792.0         Donald Trump   \n",
       "15778    Hillary Clinton          3017.0         Donald Trump   \n",
       "\n",
       "       republican_votes green_candidate  green_votes other_candidate  \\\n",
       "0               24081.0     Ralph Nader       1082.0           Other   \n",
       "1               78587.0     Ralph Nader       5767.0           Other   \n",
       "2               34620.0     Ralph Nader       1458.0           Other   \n",
       "3               11993.0     Ralph Nader        160.0           Other   \n",
       "4               40872.0     Ralph Nader       1033.0           Other   \n",
       "...                 ...             ...          ...             ...   \n",
       "15774          159048.0             NaN          NaN           Other   \n",
       "15775           54058.0             NaN          NaN           Other   \n",
       "15776           34194.0             NaN          NaN           Other   \n",
       "15777           25747.0             NaN          NaN           Other   \n",
       "15778             648.0             NaN          NaN           Other   \n",
       "\n",
       "       other_votes  \n",
       "0            294.0  \n",
       "1           1102.0  \n",
       "2            470.0  \n",
       "3            113.0  \n",
       "4            578.0  \n",
       "...            ...  \n",
       "15774      14349.0  \n",
       "15775       7192.0  \n",
       "15776       4724.0  \n",
       "15777       3284.0  \n",
       "15778        321.0  \n",
       "\n",
       "[15779 rows x 19 columns]"
      ],
      "text/html": "<div>\n<style scoped>\n    .dataframe tbody tr th:only-of-type {\n        vertical-align: middle;\n    }\n\n    .dataframe tbody tr th {\n        vertical-align: top;\n    }\n\n    .dataframe thead th {\n        text-align: right;\n    }\n</style>\n<table border=\"1\" class=\"dataframe\">\n  <thead>\n    <tr style=\"text-align: right;\">\n      <th></th>\n      <th>year</th>\n      <th>FIPS</th>\n      <th>state</th>\n      <th>state_po</th>\n      <th>county</th>\n      <th>office</th>\n      <th>candidate</th>\n      <th>party</th>\n      <th>candidatevotes</th>\n      <th>totalvotes</th>\n      <th>version</th>\n      <th>democrat_candidate</th>\n      <th>democrat_votes</th>\n      <th>republican_candidate</th>\n      <th>republican_votes</th>\n      <th>green_candidate</th>\n      <th>green_votes</th>\n      <th>other_candidate</th>\n      <th>other_votes</th>\n    </tr>\n  </thead>\n  <tbody>\n    <tr>\n      <th>0</th>\n      <td>2000</td>\n      <td>10001</td>\n      <td>Delaware</td>\n      <td>DE</td>\n      <td>Kent</td>\n      <td>President</td>\n      <td>Al Gore</td>\n      <td>democrat</td>\n      <td>22790.0</td>\n      <td>48247</td>\n      <td>20191203</td>\n      <td>Al Gore</td>\n      <td>22790.0</td>\n      <td>George W. Bush</td>\n      <td>24081.0</td>\n      <td>Ralph Nader</td>\n      <td>1082.0</td>\n      <td>Other</td>\n      <td>294.0</td>\n    </tr>\n    <tr>\n      <th>1</th>\n      <td>2000</td>\n      <td>10003</td>\n      <td>Delaware</td>\n      <td>DE</td>\n      <td>New Castle</td>\n      <td>President</td>\n      <td>Al Gore</td>\n      <td>democrat</td>\n      <td>127539.0</td>\n      <td>212995</td>\n      <td>20191203</td>\n      <td>Al Gore</td>\n      <td>127539.0</td>\n      <td>George W. Bush</td>\n      <td>78587.0</td>\n      <td>Ralph Nader</td>\n      <td>5767.0</td>\n      <td>Other</td>\n      <td>1102.0</td>\n    </tr>\n    <tr>\n      <th>2</th>\n      <td>2000</td>\n      <td>10005</td>\n      <td>Delaware</td>\n      <td>DE</td>\n      <td>Sussex</td>\n      <td>President</td>\n      <td>Al Gore</td>\n      <td>democrat</td>\n      <td>29739.0</td>\n      <td>66287</td>\n      <td>20191203</td>\n      <td>Al Gore</td>\n      <td>29739.0</td>\n      <td>George W. Bush</td>\n      <td>34620.0</td>\n      <td>Ralph Nader</td>\n      <td>1458.0</td>\n      <td>Other</td>\n      <td>470.0</td>\n    </tr>\n    <tr>\n      <th>3</th>\n      <td>2000</td>\n      <td>1001</td>\n      <td>Alabama</td>\n      <td>AL</td>\n      <td>Autauga</td>\n      <td>President</td>\n      <td>Al Gore</td>\n      <td>democrat</td>\n      <td>4942.0</td>\n      <td>17208</td>\n      <td>20191203</td>\n      <td>Al Gore</td>\n      <td>4942.0</td>\n      <td>George W. Bush</td>\n      <td>11993.0</td>\n      <td>Ralph Nader</td>\n      <td>160.0</td>\n      <td>Other</td>\n      <td>113.0</td>\n    </tr>\n    <tr>\n      <th>4</th>\n      <td>2000</td>\n      <td>1003</td>\n      <td>Alabama</td>\n      <td>AL</td>\n      <td>Baldwin</td>\n      <td>President</td>\n      <td>Al Gore</td>\n      <td>democrat</td>\n      <td>13997.0</td>\n      <td>56480</td>\n      <td>20191203</td>\n      <td>Al Gore</td>\n      <td>13997.0</td>\n      <td>George W. Bush</td>\n      <td>40872.0</td>\n      <td>Ralph Nader</td>\n      <td>1033.0</td>\n      <td>Other</td>\n      <td>578.0</td>\n    </tr>\n    <tr>\n      <th>...</th>\n      <td>...</td>\n      <td>...</td>\n      <td>...</td>\n      <td>...</td>\n      <td>...</td>\n      <td>...</td>\n      <td>...</td>\n      <td>...</td>\n      <td>...</td>\n      <td>...</td>\n      <td>...</td>\n      <td>...</td>\n      <td>...</td>\n      <td>...</td>\n      <td>...</td>\n      <td>...</td>\n      <td>...</td>\n      <td>...</td>\n      <td>...</td>\n    </tr>\n    <tr>\n      <th>15774</th>\n      <td>2016</td>\n      <td>9009</td>\n      <td>Connecticut</td>\n      <td>CT</td>\n      <td>New Haven</td>\n      <td>President</td>\n      <td>Hillary Clinton</td>\n      <td>democrat</td>\n      <td>205609.0</td>\n      <td>379006</td>\n      <td>20191203</td>\n      <td>Hillary Clinton</td>\n      <td>205609.0</td>\n      <td>Donald Trump</td>\n      <td>159048.0</td>\n      <td>NaN</td>\n      <td>NaN</td>\n      <td>Other</td>\n      <td>14349.0</td>\n    </tr>\n    <tr>\n      <th>15775</th>\n      <td>2016</td>\n      <td>9011</td>\n      <td>Connecticut</td>\n      <td>CT</td>\n      <td>New London</td>\n      <td>President</td>\n      <td>Hillary Clinton</td>\n      <td>democrat</td>\n      <td>62278.0</td>\n      <td>123528</td>\n      <td>20191203</td>\n      <td>Hillary Clinton</td>\n      <td>62278.0</td>\n      <td>Donald Trump</td>\n      <td>54058.0</td>\n      <td>NaN</td>\n      <td>NaN</td>\n      <td>Other</td>\n      <td>7192.0</td>\n    </tr>\n    <tr>\n      <th>15776</th>\n      <td>2016</td>\n      <td>9013</td>\n      <td>Connecticut</td>\n      <td>CT</td>\n      <td>Tolland</td>\n      <td>President</td>\n      <td>Hillary Clinton</td>\n      <td>democrat</td>\n      <td>38506.0</td>\n      <td>77424</td>\n      <td>20191203</td>\n      <td>Hillary Clinton</td>\n      <td>38506.0</td>\n      <td>Donald Trump</td>\n      <td>34194.0</td>\n      <td>NaN</td>\n      <td>NaN</td>\n      <td>Other</td>\n      <td>4724.0</td>\n    </tr>\n    <tr>\n      <th>15777</th>\n      <td>2016</td>\n      <td>9015</td>\n      <td>Connecticut</td>\n      <td>CT</td>\n      <td>Windham</td>\n      <td>President</td>\n      <td>Hillary Clinton</td>\n      <td>democrat</td>\n      <td>21792.0</td>\n      <td>50823</td>\n      <td>20191203</td>\n      <td>Hillary Clinton</td>\n      <td>21792.0</td>\n      <td>Donald Trump</td>\n      <td>25747.0</td>\n      <td>NaN</td>\n      <td>NaN</td>\n      <td>Other</td>\n      <td>3284.0</td>\n    </tr>\n    <tr>\n      <th>15778</th>\n      <td>2016</td>\n      <td>NA</td>\n      <td>Connecticut</td>\n      <td>NaN</td>\n      <td>Statewide writein</td>\n      <td>President</td>\n      <td>Hillary Clinton</td>\n      <td>democrat</td>\n      <td>3017.0</td>\n      <td>5056</td>\n      <td>20191203</td>\n      <td>Hillary Clinton</td>\n      <td>3017.0</td>\n      <td>Donald Trump</td>\n      <td>648.0</td>\n      <td>NaN</td>\n      <td>NaN</td>\n      <td>Other</td>\n      <td>321.0</td>\n    </tr>\n  </tbody>\n</table>\n<p>15779 rows × 19 columns</p>\n</div>"
     },
     "metadata": {},
     "execution_count": 76
    }
   ],
   "source": [
    "# combine rows\n",
    "\n",
    "df = df.groupby([df.year,df.FIPS], as_index=False).first()\n",
    "df"
   ]
  },
  {
   "cell_type": "code",
   "execution_count": 84,
   "metadata": {},
   "outputs": [
    {
     "output_type": "stream",
     "name": "stdout",
     "text": [
      "-74045.0\n(array([10250, 12622, 13406, 14119, 14584, 14595, 14606, 15778]),)\n"
     ]
    }
   ],
   "source": [
    "# check that votes recorded match total votes\n",
    "diff = df.democrat_votes.fillna(0) + df.republican_votes.fillna(0) + df.green_votes.fillna(0) + df.other_votes.fillna(0) - df.totalvotes\n",
    "\n",
    "# min is high indicating that there are some areas where the parts do not sum to the total\n",
    "print(diff.min())\n",
    "\n",
    "# there are 9 different exeptions here\n",
    "diff_error=np.where(diff != 0)\n",
    "print(diff_error)\n"
   ]
  },
  {
   "cell_type": "code",
   "execution_count": 85,
   "metadata": {},
   "outputs": [
    {
     "output_type": "execute_result",
     "data": {
      "text/plain": [
       "       year   FIPS        state state_po             county     office  \\\n",
       "10250  2012   2099       Alaska      NaN        District 99  President   \n",
       "12622  2012     NA  Connecticut      NaN  Statewide writein  President   \n",
       "13406  2016   2099       Alaska      NaN        District 99  President   \n",
       "14119  2016  31103     Nebraska       NE          Keya Paha  President   \n",
       "14584  2016   4007      Arizona       AZ               Gila  President   \n",
       "14595  2016   4009      Arizona       AZ             Graham  President   \n",
       "14606  2016   4011      Arizona       AZ           Greenlee  President   \n",
       "15778  2016     NA  Connecticut      NaN  Statewide writein  President   \n",
       "\n",
       "             candidate     party  candidatevotes  totalvotes   version  \\\n",
       "10250     Barack Obama  democrat             NaN       74045  20191203   \n",
       "12622     Barack Obama  democrat         39366.0       74045  20191203   \n",
       "13406  Hillary Clinton  democrat           274.0        5056  20191203   \n",
       "14119  Hillary Clinton  democrat            40.0         479  20191203   \n",
       "14584  Hillary Clinton  democrat          7003.0       36697  20191203   \n",
       "14595  Hillary Clinton  democrat          3301.0       20306  20191203   \n",
       "14606  Hillary Clinton  democrat          1092.0        5192  20191203   \n",
       "15778  Hillary Clinton  democrat          3017.0        5056  20191203   \n",
       "\n",
       "      democrat_candidate  democrat_votes republican_candidate  \\\n",
       "10250       Barack Obama             NaN          Mitt Romney   \n",
       "12622       Barack Obama         39366.0          Mitt Romney   \n",
       "13406    Hillary Clinton           274.0         Donald Trump   \n",
       "14119    Hillary Clinton            40.0         Donald Trump   \n",
       "14584    Hillary Clinton          7003.0         Donald Trump   \n",
       "14595    Hillary Clinton          3301.0         Donald Trump   \n",
       "14606    Hillary Clinton          1092.0         Donald Trump   \n",
       "15778    Hillary Clinton          3017.0         Donald Trump   \n",
       "\n",
       "       republican_votes green_candidate  green_votes other_candidate  \\\n",
       "10250               NaN             NaN          NaN           Other   \n",
       "12622           30450.0             NaN          NaN           Other   \n",
       "13406              40.0             NaN          NaN           Other   \n",
       "14119             460.0             NaN          NaN           Other   \n",
       "14584           14182.0             NaN          NaN           Other   \n",
       "14595            8025.0             NaN          NaN           Other   \n",
       "14606            1892.0             NaN          NaN           Other   \n",
       "15778             648.0             NaN          NaN           Other   \n",
       "\n",
       "       other_votes  \n",
       "10250          NaN  \n",
       "12622       1175.0  \n",
       "13406         28.0  \n",
       "14119         19.0  \n",
       "14584       1127.0  \n",
       "14595        808.0  \n",
       "14606        286.0  \n",
       "15778        321.0  "
      ],
      "text/html": "<div>\n<style scoped>\n    .dataframe tbody tr th:only-of-type {\n        vertical-align: middle;\n    }\n\n    .dataframe tbody tr th {\n        vertical-align: top;\n    }\n\n    .dataframe thead th {\n        text-align: right;\n    }\n</style>\n<table border=\"1\" class=\"dataframe\">\n  <thead>\n    <tr style=\"text-align: right;\">\n      <th></th>\n      <th>year</th>\n      <th>FIPS</th>\n      <th>state</th>\n      <th>state_po</th>\n      <th>county</th>\n      <th>office</th>\n      <th>candidate</th>\n      <th>party</th>\n      <th>candidatevotes</th>\n      <th>totalvotes</th>\n      <th>version</th>\n      <th>democrat_candidate</th>\n      <th>democrat_votes</th>\n      <th>republican_candidate</th>\n      <th>republican_votes</th>\n      <th>green_candidate</th>\n      <th>green_votes</th>\n      <th>other_candidate</th>\n      <th>other_votes</th>\n    </tr>\n  </thead>\n  <tbody>\n    <tr>\n      <th>10250</th>\n      <td>2012</td>\n      <td>2099</td>\n      <td>Alaska</td>\n      <td>NaN</td>\n      <td>District 99</td>\n      <td>President</td>\n      <td>Barack Obama</td>\n      <td>democrat</td>\n      <td>NaN</td>\n      <td>74045</td>\n      <td>20191203</td>\n      <td>Barack Obama</td>\n      <td>NaN</td>\n      <td>Mitt Romney</td>\n      <td>NaN</td>\n      <td>NaN</td>\n      <td>NaN</td>\n      <td>Other</td>\n      <td>NaN</td>\n    </tr>\n    <tr>\n      <th>12622</th>\n      <td>2012</td>\n      <td>NA</td>\n      <td>Connecticut</td>\n      <td>NaN</td>\n      <td>Statewide writein</td>\n      <td>President</td>\n      <td>Barack Obama</td>\n      <td>democrat</td>\n      <td>39366.0</td>\n      <td>74045</td>\n      <td>20191203</td>\n      <td>Barack Obama</td>\n      <td>39366.0</td>\n      <td>Mitt Romney</td>\n      <td>30450.0</td>\n      <td>NaN</td>\n      <td>NaN</td>\n      <td>Other</td>\n      <td>1175.0</td>\n    </tr>\n    <tr>\n      <th>13406</th>\n      <td>2016</td>\n      <td>2099</td>\n      <td>Alaska</td>\n      <td>NaN</td>\n      <td>District 99</td>\n      <td>President</td>\n      <td>Hillary Clinton</td>\n      <td>democrat</td>\n      <td>274.0</td>\n      <td>5056</td>\n      <td>20191203</td>\n      <td>Hillary Clinton</td>\n      <td>274.0</td>\n      <td>Donald Trump</td>\n      <td>40.0</td>\n      <td>NaN</td>\n      <td>NaN</td>\n      <td>Other</td>\n      <td>28.0</td>\n    </tr>\n    <tr>\n      <th>14119</th>\n      <td>2016</td>\n      <td>31103</td>\n      <td>Nebraska</td>\n      <td>NE</td>\n      <td>Keya Paha</td>\n      <td>President</td>\n      <td>Hillary Clinton</td>\n      <td>democrat</td>\n      <td>40.0</td>\n      <td>479</td>\n      <td>20191203</td>\n      <td>Hillary Clinton</td>\n      <td>40.0</td>\n      <td>Donald Trump</td>\n      <td>460.0</td>\n      <td>NaN</td>\n      <td>NaN</td>\n      <td>Other</td>\n      <td>19.0</td>\n    </tr>\n    <tr>\n      <th>14584</th>\n      <td>2016</td>\n      <td>4007</td>\n      <td>Arizona</td>\n      <td>AZ</td>\n      <td>Gila</td>\n      <td>President</td>\n      <td>Hillary Clinton</td>\n      <td>democrat</td>\n      <td>7003.0</td>\n      <td>36697</td>\n      <td>20191203</td>\n      <td>Hillary Clinton</td>\n      <td>7003.0</td>\n      <td>Donald Trump</td>\n      <td>14182.0</td>\n      <td>NaN</td>\n      <td>NaN</td>\n      <td>Other</td>\n      <td>1127.0</td>\n    </tr>\n    <tr>\n      <th>14595</th>\n      <td>2016</td>\n      <td>4009</td>\n      <td>Arizona</td>\n      <td>AZ</td>\n      <td>Graham</td>\n      <td>President</td>\n      <td>Hillary Clinton</td>\n      <td>democrat</td>\n      <td>3301.0</td>\n      <td>20306</td>\n      <td>20191203</td>\n      <td>Hillary Clinton</td>\n      <td>3301.0</td>\n      <td>Donald Trump</td>\n      <td>8025.0</td>\n      <td>NaN</td>\n      <td>NaN</td>\n      <td>Other</td>\n      <td>808.0</td>\n    </tr>\n    <tr>\n      <th>14606</th>\n      <td>2016</td>\n      <td>4011</td>\n      <td>Arizona</td>\n      <td>AZ</td>\n      <td>Greenlee</td>\n      <td>President</td>\n      <td>Hillary Clinton</td>\n      <td>democrat</td>\n      <td>1092.0</td>\n      <td>5192</td>\n      <td>20191203</td>\n      <td>Hillary Clinton</td>\n      <td>1092.0</td>\n      <td>Donald Trump</td>\n      <td>1892.0</td>\n      <td>NaN</td>\n      <td>NaN</td>\n      <td>Other</td>\n      <td>286.0</td>\n    </tr>\n    <tr>\n      <th>15778</th>\n      <td>2016</td>\n      <td>NA</td>\n      <td>Connecticut</td>\n      <td>NaN</td>\n      <td>Statewide writein</td>\n      <td>President</td>\n      <td>Hillary Clinton</td>\n      <td>democrat</td>\n      <td>3017.0</td>\n      <td>5056</td>\n      <td>20191203</td>\n      <td>Hillary Clinton</td>\n      <td>3017.0</td>\n      <td>Donald Trump</td>\n      <td>648.0</td>\n      <td>NaN</td>\n      <td>NaN</td>\n      <td>Other</td>\n      <td>321.0</td>\n    </tr>\n  </tbody>\n</table>\n</div>"
     },
     "metadata": {},
     "execution_count": 85
    }
   ],
   "source": [
    "# These are areas that do show some descrepencies, but the differences appear minor. The first row is a case where data was not collected.\n",
    "# Also notice the \"Statewide write in\" for conneticut, these may have to be eliminated\n",
    "df.iloc[diff_error]"
   ]
  },
  {
   "cell_type": "code",
   "execution_count": null,
   "metadata": {},
   "outputs": [],
   "source": [
    "# how were the values on state wide write in calculated?  Why did major party candidates get lumped in with write in?"
   ]
  },
  {
   "cell_type": "code",
   "execution_count": 79,
   "metadata": {},
   "outputs": [],
   "source": [
    "# calculate the mix of dem/rep votes"
   ]
  },
  {
   "cell_type": "code",
   "execution_count": null,
   "metadata": {},
   "outputs": [],
   "source": []
  }
 ]
}